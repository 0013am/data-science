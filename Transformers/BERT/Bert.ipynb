{
  "nbformat": 4,
  "nbformat_minor": 0,
  "metadata": {
    "colab": {
      "name": "Bert.ipynb",
      "provenance": []
    },
    "kernelspec": {
      "name": "python3",
      "display_name": "Python 3"
    },
    "language_info": {
      "name": "python"
    },
    "widgets": {
      "application/vnd.jupyter.widget-state+json": {
        "ed0f6e32090b408da8f69115b8c666b7": {
          "model_module": "@jupyter-widgets/controls",
          "model_name": "HBoxModel",
          "state": {
            "_view_name": "HBoxView",
            "_dom_classes": [],
            "_model_name": "HBoxModel",
            "_view_module": "@jupyter-widgets/controls",
            "_model_module_version": "1.5.0",
            "_view_count": null,
            "_view_module_version": "1.5.0",
            "box_style": "",
            "layout": "IPY_MODEL_6f9af95d196644c6add02e0a7d5b380e",
            "_model_module": "@jupyter-widgets/controls",
            "children": [
              "IPY_MODEL_48bcf3501df44a26b798a575a883cea5",
              "IPY_MODEL_9248fd51c91c4c5dbb4e9b99ce17a1da"
            ]
          }
        },
        "6f9af95d196644c6add02e0a7d5b380e": {
          "model_module": "@jupyter-widgets/base",
          "model_name": "LayoutModel",
          "state": {
            "_view_name": "LayoutView",
            "grid_template_rows": null,
            "right": null,
            "justify_content": null,
            "_view_module": "@jupyter-widgets/base",
            "overflow": null,
            "_model_module_version": "1.2.0",
            "_view_count": null,
            "flex_flow": null,
            "width": null,
            "min_width": null,
            "border": null,
            "align_items": null,
            "bottom": null,
            "_model_module": "@jupyter-widgets/base",
            "top": null,
            "grid_column": null,
            "overflow_y": null,
            "overflow_x": null,
            "grid_auto_flow": null,
            "grid_area": null,
            "grid_template_columns": null,
            "flex": null,
            "_model_name": "LayoutModel",
            "justify_items": null,
            "grid_row": null,
            "max_height": null,
            "align_content": null,
            "visibility": null,
            "align_self": null,
            "height": null,
            "min_height": null,
            "padding": null,
            "grid_auto_rows": null,
            "grid_gap": null,
            "max_width": null,
            "order": null,
            "_view_module_version": "1.2.0",
            "grid_template_areas": null,
            "object_position": null,
            "object_fit": null,
            "grid_auto_columns": null,
            "margin": null,
            "display": null,
            "left": null
          }
        },
        "48bcf3501df44a26b798a575a883cea5": {
          "model_module": "@jupyter-widgets/controls",
          "model_name": "FloatProgressModel",
          "state": {
            "_view_name": "ProgressView",
            "style": "IPY_MODEL_d20928175ffb4559934e2d2a997f553f",
            "_dom_classes": [],
            "description": "Downloading: 100%",
            "_model_name": "FloatProgressModel",
            "bar_style": "success",
            "max": 213450,
            "_view_module": "@jupyter-widgets/controls",
            "_model_module_version": "1.5.0",
            "value": 213450,
            "_view_count": null,
            "_view_module_version": "1.5.0",
            "orientation": "horizontal",
            "min": 0,
            "description_tooltip": null,
            "_model_module": "@jupyter-widgets/controls",
            "layout": "IPY_MODEL_ab1c644a9e064b5cb55c97d204de5abd"
          }
        },
        "9248fd51c91c4c5dbb4e9b99ce17a1da": {
          "model_module": "@jupyter-widgets/controls",
          "model_name": "HTMLModel",
          "state": {
            "_view_name": "HTMLView",
            "style": "IPY_MODEL_571561c561734dd282d2813945b0402d",
            "_dom_classes": [],
            "description": "",
            "_model_name": "HTMLModel",
            "placeholder": "​",
            "_view_module": "@jupyter-widgets/controls",
            "_model_module_version": "1.5.0",
            "value": " 213k/213k [06:15&lt;00:00, 569B/s]",
            "_view_count": null,
            "_view_module_version": "1.5.0",
            "description_tooltip": null,
            "_model_module": "@jupyter-widgets/controls",
            "layout": "IPY_MODEL_e2616e31473147a3ab95cb6c3c00bb46"
          }
        },
        "d20928175ffb4559934e2d2a997f553f": {
          "model_module": "@jupyter-widgets/controls",
          "model_name": "ProgressStyleModel",
          "state": {
            "_view_name": "StyleView",
            "_model_name": "ProgressStyleModel",
            "description_width": "initial",
            "_view_module": "@jupyter-widgets/base",
            "_model_module_version": "1.5.0",
            "_view_count": null,
            "_view_module_version": "1.2.0",
            "bar_color": null,
            "_model_module": "@jupyter-widgets/controls"
          }
        },
        "ab1c644a9e064b5cb55c97d204de5abd": {
          "model_module": "@jupyter-widgets/base",
          "model_name": "LayoutModel",
          "state": {
            "_view_name": "LayoutView",
            "grid_template_rows": null,
            "right": null,
            "justify_content": null,
            "_view_module": "@jupyter-widgets/base",
            "overflow": null,
            "_model_module_version": "1.2.0",
            "_view_count": null,
            "flex_flow": null,
            "width": null,
            "min_width": null,
            "border": null,
            "align_items": null,
            "bottom": null,
            "_model_module": "@jupyter-widgets/base",
            "top": null,
            "grid_column": null,
            "overflow_y": null,
            "overflow_x": null,
            "grid_auto_flow": null,
            "grid_area": null,
            "grid_template_columns": null,
            "flex": null,
            "_model_name": "LayoutModel",
            "justify_items": null,
            "grid_row": null,
            "max_height": null,
            "align_content": null,
            "visibility": null,
            "align_self": null,
            "height": null,
            "min_height": null,
            "padding": null,
            "grid_auto_rows": null,
            "grid_gap": null,
            "max_width": null,
            "order": null,
            "_view_module_version": "1.2.0",
            "grid_template_areas": null,
            "object_position": null,
            "object_fit": null,
            "grid_auto_columns": null,
            "margin": null,
            "display": null,
            "left": null
          }
        },
        "571561c561734dd282d2813945b0402d": {
          "model_module": "@jupyter-widgets/controls",
          "model_name": "DescriptionStyleModel",
          "state": {
            "_view_name": "StyleView",
            "_model_name": "DescriptionStyleModel",
            "description_width": "",
            "_view_module": "@jupyter-widgets/base",
            "_model_module_version": "1.5.0",
            "_view_count": null,
            "_view_module_version": "1.2.0",
            "_model_module": "@jupyter-widgets/controls"
          }
        },
        "e2616e31473147a3ab95cb6c3c00bb46": {
          "model_module": "@jupyter-widgets/base",
          "model_name": "LayoutModel",
          "state": {
            "_view_name": "LayoutView",
            "grid_template_rows": null,
            "right": null,
            "justify_content": null,
            "_view_module": "@jupyter-widgets/base",
            "overflow": null,
            "_model_module_version": "1.2.0",
            "_view_count": null,
            "flex_flow": null,
            "width": null,
            "min_width": null,
            "border": null,
            "align_items": null,
            "bottom": null,
            "_model_module": "@jupyter-widgets/base",
            "top": null,
            "grid_column": null,
            "overflow_y": null,
            "overflow_x": null,
            "grid_auto_flow": null,
            "grid_area": null,
            "grid_template_columns": null,
            "flex": null,
            "_model_name": "LayoutModel",
            "justify_items": null,
            "grid_row": null,
            "max_height": null,
            "align_content": null,
            "visibility": null,
            "align_self": null,
            "height": null,
            "min_height": null,
            "padding": null,
            "grid_auto_rows": null,
            "grid_gap": null,
            "max_width": null,
            "order": null,
            "_view_module_version": "1.2.0",
            "grid_template_areas": null,
            "object_position": null,
            "object_fit": null,
            "grid_auto_columns": null,
            "margin": null,
            "display": null,
            "left": null
          }
        },
        "482bb44576554c75acb40a887755df97": {
          "model_module": "@jupyter-widgets/controls",
          "model_name": "HBoxModel",
          "state": {
            "_view_name": "HBoxView",
            "_dom_classes": [],
            "_model_name": "HBoxModel",
            "_view_module": "@jupyter-widgets/controls",
            "_model_module_version": "1.5.0",
            "_view_count": null,
            "_view_module_version": "1.5.0",
            "box_style": "",
            "layout": "IPY_MODEL_94ef611774be49c5897a43389aacf75e",
            "_model_module": "@jupyter-widgets/controls",
            "children": [
              "IPY_MODEL_10c68d60fe4a4dc7924de573252f65d3",
              "IPY_MODEL_28ad474e003148c5b19b2661444198f1"
            ]
          }
        },
        "94ef611774be49c5897a43389aacf75e": {
          "model_module": "@jupyter-widgets/base",
          "model_name": "LayoutModel",
          "state": {
            "_view_name": "LayoutView",
            "grid_template_rows": null,
            "right": null,
            "justify_content": null,
            "_view_module": "@jupyter-widgets/base",
            "overflow": null,
            "_model_module_version": "1.2.0",
            "_view_count": null,
            "flex_flow": null,
            "width": null,
            "min_width": null,
            "border": null,
            "align_items": null,
            "bottom": null,
            "_model_module": "@jupyter-widgets/base",
            "top": null,
            "grid_column": null,
            "overflow_y": null,
            "overflow_x": null,
            "grid_auto_flow": null,
            "grid_area": null,
            "grid_template_columns": null,
            "flex": null,
            "_model_name": "LayoutModel",
            "justify_items": null,
            "grid_row": null,
            "max_height": null,
            "align_content": null,
            "visibility": null,
            "align_self": null,
            "height": null,
            "min_height": null,
            "padding": null,
            "grid_auto_rows": null,
            "grid_gap": null,
            "max_width": null,
            "order": null,
            "_view_module_version": "1.2.0",
            "grid_template_areas": null,
            "object_position": null,
            "object_fit": null,
            "grid_auto_columns": null,
            "margin": null,
            "display": null,
            "left": null
          }
        },
        "10c68d60fe4a4dc7924de573252f65d3": {
          "model_module": "@jupyter-widgets/controls",
          "model_name": "FloatProgressModel",
          "state": {
            "_view_name": "ProgressView",
            "style": "IPY_MODEL_1be5829a1e6443489e1fb95aa3b42477",
            "_dom_classes": [],
            "description": "Downloading: 100%",
            "_model_name": "FloatProgressModel",
            "bar_style": "success",
            "max": 29,
            "_view_module": "@jupyter-widgets/controls",
            "_model_module_version": "1.5.0",
            "value": 29,
            "_view_count": null,
            "_view_module_version": "1.5.0",
            "orientation": "horizontal",
            "min": 0,
            "description_tooltip": null,
            "_model_module": "@jupyter-widgets/controls",
            "layout": "IPY_MODEL_3d5a8967ba5645d4b278a5335b804edb"
          }
        },
        "28ad474e003148c5b19b2661444198f1": {
          "model_module": "@jupyter-widgets/controls",
          "model_name": "HTMLModel",
          "state": {
            "_view_name": "HTMLView",
            "style": "IPY_MODEL_75510a7e958246899042a2de1a4ac80c",
            "_dom_classes": [],
            "description": "",
            "_model_name": "HTMLModel",
            "placeholder": "​",
            "_view_module": "@jupyter-widgets/controls",
            "_model_module_version": "1.5.0",
            "value": " 29.0/29.0 [00:00&lt;00:00, 134B/s]",
            "_view_count": null,
            "_view_module_version": "1.5.0",
            "description_tooltip": null,
            "_model_module": "@jupyter-widgets/controls",
            "layout": "IPY_MODEL_1d0ad1db4c494d42a24f3311ce7454c4"
          }
        },
        "1be5829a1e6443489e1fb95aa3b42477": {
          "model_module": "@jupyter-widgets/controls",
          "model_name": "ProgressStyleModel",
          "state": {
            "_view_name": "StyleView",
            "_model_name": "ProgressStyleModel",
            "description_width": "initial",
            "_view_module": "@jupyter-widgets/base",
            "_model_module_version": "1.5.0",
            "_view_count": null,
            "_view_module_version": "1.2.0",
            "bar_color": null,
            "_model_module": "@jupyter-widgets/controls"
          }
        },
        "3d5a8967ba5645d4b278a5335b804edb": {
          "model_module": "@jupyter-widgets/base",
          "model_name": "LayoutModel",
          "state": {
            "_view_name": "LayoutView",
            "grid_template_rows": null,
            "right": null,
            "justify_content": null,
            "_view_module": "@jupyter-widgets/base",
            "overflow": null,
            "_model_module_version": "1.2.0",
            "_view_count": null,
            "flex_flow": null,
            "width": null,
            "min_width": null,
            "border": null,
            "align_items": null,
            "bottom": null,
            "_model_module": "@jupyter-widgets/base",
            "top": null,
            "grid_column": null,
            "overflow_y": null,
            "overflow_x": null,
            "grid_auto_flow": null,
            "grid_area": null,
            "grid_template_columns": null,
            "flex": null,
            "_model_name": "LayoutModel",
            "justify_items": null,
            "grid_row": null,
            "max_height": null,
            "align_content": null,
            "visibility": null,
            "align_self": null,
            "height": null,
            "min_height": null,
            "padding": null,
            "grid_auto_rows": null,
            "grid_gap": null,
            "max_width": null,
            "order": null,
            "_view_module_version": "1.2.0",
            "grid_template_areas": null,
            "object_position": null,
            "object_fit": null,
            "grid_auto_columns": null,
            "margin": null,
            "display": null,
            "left": null
          }
        },
        "75510a7e958246899042a2de1a4ac80c": {
          "model_module": "@jupyter-widgets/controls",
          "model_name": "DescriptionStyleModel",
          "state": {
            "_view_name": "StyleView",
            "_model_name": "DescriptionStyleModel",
            "description_width": "",
            "_view_module": "@jupyter-widgets/base",
            "_model_module_version": "1.5.0",
            "_view_count": null,
            "_view_module_version": "1.2.0",
            "_model_module": "@jupyter-widgets/controls"
          }
        },
        "1d0ad1db4c494d42a24f3311ce7454c4": {
          "model_module": "@jupyter-widgets/base",
          "model_name": "LayoutModel",
          "state": {
            "_view_name": "LayoutView",
            "grid_template_rows": null,
            "right": null,
            "justify_content": null,
            "_view_module": "@jupyter-widgets/base",
            "overflow": null,
            "_model_module_version": "1.2.0",
            "_view_count": null,
            "flex_flow": null,
            "width": null,
            "min_width": null,
            "border": null,
            "align_items": null,
            "bottom": null,
            "_model_module": "@jupyter-widgets/base",
            "top": null,
            "grid_column": null,
            "overflow_y": null,
            "overflow_x": null,
            "grid_auto_flow": null,
            "grid_area": null,
            "grid_template_columns": null,
            "flex": null,
            "_model_name": "LayoutModel",
            "justify_items": null,
            "grid_row": null,
            "max_height": null,
            "align_content": null,
            "visibility": null,
            "align_self": null,
            "height": null,
            "min_height": null,
            "padding": null,
            "grid_auto_rows": null,
            "grid_gap": null,
            "max_width": null,
            "order": null,
            "_view_module_version": "1.2.0",
            "grid_template_areas": null,
            "object_position": null,
            "object_fit": null,
            "grid_auto_columns": null,
            "margin": null,
            "display": null,
            "left": null
          }
        },
        "512c44e20ac24bdb9620d5b64e253112": {
          "model_module": "@jupyter-widgets/controls",
          "model_name": "HBoxModel",
          "state": {
            "_view_name": "HBoxView",
            "_dom_classes": [],
            "_model_name": "HBoxModel",
            "_view_module": "@jupyter-widgets/controls",
            "_model_module_version": "1.5.0",
            "_view_count": null,
            "_view_module_version": "1.5.0",
            "box_style": "",
            "layout": "IPY_MODEL_0181bf06eac3443da341b3d74cd31015",
            "_model_module": "@jupyter-widgets/controls",
            "children": [
              "IPY_MODEL_0de141fff20a459f84959d6ee83a857e",
              "IPY_MODEL_34d3e4650d8b4bbdbe9fc6b30f208a8b"
            ]
          }
        },
        "0181bf06eac3443da341b3d74cd31015": {
          "model_module": "@jupyter-widgets/base",
          "model_name": "LayoutModel",
          "state": {
            "_view_name": "LayoutView",
            "grid_template_rows": null,
            "right": null,
            "justify_content": null,
            "_view_module": "@jupyter-widgets/base",
            "overflow": null,
            "_model_module_version": "1.2.0",
            "_view_count": null,
            "flex_flow": null,
            "width": null,
            "min_width": null,
            "border": null,
            "align_items": null,
            "bottom": null,
            "_model_module": "@jupyter-widgets/base",
            "top": null,
            "grid_column": null,
            "overflow_y": null,
            "overflow_x": null,
            "grid_auto_flow": null,
            "grid_area": null,
            "grid_template_columns": null,
            "flex": null,
            "_model_name": "LayoutModel",
            "justify_items": null,
            "grid_row": null,
            "max_height": null,
            "align_content": null,
            "visibility": null,
            "align_self": null,
            "height": null,
            "min_height": null,
            "padding": null,
            "grid_auto_rows": null,
            "grid_gap": null,
            "max_width": null,
            "order": null,
            "_view_module_version": "1.2.0",
            "grid_template_areas": null,
            "object_position": null,
            "object_fit": null,
            "grid_auto_columns": null,
            "margin": null,
            "display": null,
            "left": null
          }
        },
        "0de141fff20a459f84959d6ee83a857e": {
          "model_module": "@jupyter-widgets/controls",
          "model_name": "FloatProgressModel",
          "state": {
            "_view_name": "ProgressView",
            "style": "IPY_MODEL_115725ca0e754799a0ee1226d5cfd3f2",
            "_dom_classes": [],
            "description": "Downloading: 100%",
            "_model_name": "FloatProgressModel",
            "bar_style": "success",
            "max": 435797,
            "_view_module": "@jupyter-widgets/controls",
            "_model_module_version": "1.5.0",
            "value": 435797,
            "_view_count": null,
            "_view_module_version": "1.5.0",
            "orientation": "horizontal",
            "min": 0,
            "description_tooltip": null,
            "_model_module": "@jupyter-widgets/controls",
            "layout": "IPY_MODEL_51bd3755fbd04e6e9daef50e68defa19"
          }
        },
        "34d3e4650d8b4bbdbe9fc6b30f208a8b": {
          "model_module": "@jupyter-widgets/controls",
          "model_name": "HTMLModel",
          "state": {
            "_view_name": "HTMLView",
            "style": "IPY_MODEL_3a170e7deef3424c944c08ff49d706b3",
            "_dom_classes": [],
            "description": "",
            "_model_name": "HTMLModel",
            "placeholder": "​",
            "_view_module": "@jupyter-widgets/controls",
            "_model_module_version": "1.5.0",
            "value": " 436k/436k [00:00&lt;00:00, 2.63MB/s]",
            "_view_count": null,
            "_view_module_version": "1.5.0",
            "description_tooltip": null,
            "_model_module": "@jupyter-widgets/controls",
            "layout": "IPY_MODEL_cdc831176ba7495db9cb9b31d6fdda36"
          }
        },
        "115725ca0e754799a0ee1226d5cfd3f2": {
          "model_module": "@jupyter-widgets/controls",
          "model_name": "ProgressStyleModel",
          "state": {
            "_view_name": "StyleView",
            "_model_name": "ProgressStyleModel",
            "description_width": "initial",
            "_view_module": "@jupyter-widgets/base",
            "_model_module_version": "1.5.0",
            "_view_count": null,
            "_view_module_version": "1.2.0",
            "bar_color": null,
            "_model_module": "@jupyter-widgets/controls"
          }
        },
        "51bd3755fbd04e6e9daef50e68defa19": {
          "model_module": "@jupyter-widgets/base",
          "model_name": "LayoutModel",
          "state": {
            "_view_name": "LayoutView",
            "grid_template_rows": null,
            "right": null,
            "justify_content": null,
            "_view_module": "@jupyter-widgets/base",
            "overflow": null,
            "_model_module_version": "1.2.0",
            "_view_count": null,
            "flex_flow": null,
            "width": null,
            "min_width": null,
            "border": null,
            "align_items": null,
            "bottom": null,
            "_model_module": "@jupyter-widgets/base",
            "top": null,
            "grid_column": null,
            "overflow_y": null,
            "overflow_x": null,
            "grid_auto_flow": null,
            "grid_area": null,
            "grid_template_columns": null,
            "flex": null,
            "_model_name": "LayoutModel",
            "justify_items": null,
            "grid_row": null,
            "max_height": null,
            "align_content": null,
            "visibility": null,
            "align_self": null,
            "height": null,
            "min_height": null,
            "padding": null,
            "grid_auto_rows": null,
            "grid_gap": null,
            "max_width": null,
            "order": null,
            "_view_module_version": "1.2.0",
            "grid_template_areas": null,
            "object_position": null,
            "object_fit": null,
            "grid_auto_columns": null,
            "margin": null,
            "display": null,
            "left": null
          }
        },
        "3a170e7deef3424c944c08ff49d706b3": {
          "model_module": "@jupyter-widgets/controls",
          "model_name": "DescriptionStyleModel",
          "state": {
            "_view_name": "StyleView",
            "_model_name": "DescriptionStyleModel",
            "description_width": "",
            "_view_module": "@jupyter-widgets/base",
            "_model_module_version": "1.5.0",
            "_view_count": null,
            "_view_module_version": "1.2.0",
            "_model_module": "@jupyter-widgets/controls"
          }
        },
        "cdc831176ba7495db9cb9b31d6fdda36": {
          "model_module": "@jupyter-widgets/base",
          "model_name": "LayoutModel",
          "state": {
            "_view_name": "LayoutView",
            "grid_template_rows": null,
            "right": null,
            "justify_content": null,
            "_view_module": "@jupyter-widgets/base",
            "overflow": null,
            "_model_module_version": "1.2.0",
            "_view_count": null,
            "flex_flow": null,
            "width": null,
            "min_width": null,
            "border": null,
            "align_items": null,
            "bottom": null,
            "_model_module": "@jupyter-widgets/base",
            "top": null,
            "grid_column": null,
            "overflow_y": null,
            "overflow_x": null,
            "grid_auto_flow": null,
            "grid_area": null,
            "grid_template_columns": null,
            "flex": null,
            "_model_name": "LayoutModel",
            "justify_items": null,
            "grid_row": null,
            "max_height": null,
            "align_content": null,
            "visibility": null,
            "align_self": null,
            "height": null,
            "min_height": null,
            "padding": null,
            "grid_auto_rows": null,
            "grid_gap": null,
            "max_width": null,
            "order": null,
            "_view_module_version": "1.2.0",
            "grid_template_areas": null,
            "object_position": null,
            "object_fit": null,
            "grid_auto_columns": null,
            "margin": null,
            "display": null,
            "left": null
          }
        },
        "53262c4c9ea143faa27b125b9ccae6cd": {
          "model_module": "@jupyter-widgets/controls",
          "model_name": "HBoxModel",
          "state": {
            "_view_name": "HBoxView",
            "_dom_classes": [],
            "_model_name": "HBoxModel",
            "_view_module": "@jupyter-widgets/controls",
            "_model_module_version": "1.5.0",
            "_view_count": null,
            "_view_module_version": "1.5.0",
            "box_style": "",
            "layout": "IPY_MODEL_dd94dcfbf7d84ddab13faf3c856efa77",
            "_model_module": "@jupyter-widgets/controls",
            "children": [
              "IPY_MODEL_e589d128869d487e8bb3efad8bb4de56",
              "IPY_MODEL_c6faf04292a24e86b324100cde154998"
            ]
          }
        },
        "dd94dcfbf7d84ddab13faf3c856efa77": {
          "model_module": "@jupyter-widgets/base",
          "model_name": "LayoutModel",
          "state": {
            "_view_name": "LayoutView",
            "grid_template_rows": null,
            "right": null,
            "justify_content": null,
            "_view_module": "@jupyter-widgets/base",
            "overflow": null,
            "_model_module_version": "1.2.0",
            "_view_count": null,
            "flex_flow": null,
            "width": null,
            "min_width": null,
            "border": null,
            "align_items": null,
            "bottom": null,
            "_model_module": "@jupyter-widgets/base",
            "top": null,
            "grid_column": null,
            "overflow_y": null,
            "overflow_x": null,
            "grid_auto_flow": null,
            "grid_area": null,
            "grid_template_columns": null,
            "flex": null,
            "_model_name": "LayoutModel",
            "justify_items": null,
            "grid_row": null,
            "max_height": null,
            "align_content": null,
            "visibility": null,
            "align_self": null,
            "height": null,
            "min_height": null,
            "padding": null,
            "grid_auto_rows": null,
            "grid_gap": null,
            "max_width": null,
            "order": null,
            "_view_module_version": "1.2.0",
            "grid_template_areas": null,
            "object_position": null,
            "object_fit": null,
            "grid_auto_columns": null,
            "margin": null,
            "display": null,
            "left": null
          }
        },
        "e589d128869d487e8bb3efad8bb4de56": {
          "model_module": "@jupyter-widgets/controls",
          "model_name": "FloatProgressModel",
          "state": {
            "_view_name": "ProgressView",
            "style": "IPY_MODEL_f39d3ec919f34bf897af1115252c6d3b",
            "_dom_classes": [],
            "description": "Downloading: 100%",
            "_model_name": "FloatProgressModel",
            "bar_style": "success",
            "max": 231508,
            "_view_module": "@jupyter-widgets/controls",
            "_model_module_version": "1.5.0",
            "value": 231508,
            "_view_count": null,
            "_view_module_version": "1.5.0",
            "orientation": "horizontal",
            "min": 0,
            "description_tooltip": null,
            "_model_module": "@jupyter-widgets/controls",
            "layout": "IPY_MODEL_ac1db871b9974573b6e2e509986c5545"
          }
        },
        "c6faf04292a24e86b324100cde154998": {
          "model_module": "@jupyter-widgets/controls",
          "model_name": "HTMLModel",
          "state": {
            "_view_name": "HTMLView",
            "style": "IPY_MODEL_dd2252f549e74d9ab323110e2c079d28",
            "_dom_classes": [],
            "description": "",
            "_model_name": "HTMLModel",
            "placeholder": "​",
            "_view_module": "@jupyter-widgets/controls",
            "_model_module_version": "1.5.0",
            "value": " 232k/232k [00:00&lt;00:00, 309kB/s]",
            "_view_count": null,
            "_view_module_version": "1.5.0",
            "description_tooltip": null,
            "_model_module": "@jupyter-widgets/controls",
            "layout": "IPY_MODEL_85714a05d7394d8795855adaaf8d2a13"
          }
        },
        "f39d3ec919f34bf897af1115252c6d3b": {
          "model_module": "@jupyter-widgets/controls",
          "model_name": "ProgressStyleModel",
          "state": {
            "_view_name": "StyleView",
            "_model_name": "ProgressStyleModel",
            "description_width": "initial",
            "_view_module": "@jupyter-widgets/base",
            "_model_module_version": "1.5.0",
            "_view_count": null,
            "_view_module_version": "1.2.0",
            "bar_color": null,
            "_model_module": "@jupyter-widgets/controls"
          }
        },
        "ac1db871b9974573b6e2e509986c5545": {
          "model_module": "@jupyter-widgets/base",
          "model_name": "LayoutModel",
          "state": {
            "_view_name": "LayoutView",
            "grid_template_rows": null,
            "right": null,
            "justify_content": null,
            "_view_module": "@jupyter-widgets/base",
            "overflow": null,
            "_model_module_version": "1.2.0",
            "_view_count": null,
            "flex_flow": null,
            "width": null,
            "min_width": null,
            "border": null,
            "align_items": null,
            "bottom": null,
            "_model_module": "@jupyter-widgets/base",
            "top": null,
            "grid_column": null,
            "overflow_y": null,
            "overflow_x": null,
            "grid_auto_flow": null,
            "grid_area": null,
            "grid_template_columns": null,
            "flex": null,
            "_model_name": "LayoutModel",
            "justify_items": null,
            "grid_row": null,
            "max_height": null,
            "align_content": null,
            "visibility": null,
            "align_self": null,
            "height": null,
            "min_height": null,
            "padding": null,
            "grid_auto_rows": null,
            "grid_gap": null,
            "max_width": null,
            "order": null,
            "_view_module_version": "1.2.0",
            "grid_template_areas": null,
            "object_position": null,
            "object_fit": null,
            "grid_auto_columns": null,
            "margin": null,
            "display": null,
            "left": null
          }
        },
        "dd2252f549e74d9ab323110e2c079d28": {
          "model_module": "@jupyter-widgets/controls",
          "model_name": "DescriptionStyleModel",
          "state": {
            "_view_name": "StyleView",
            "_model_name": "DescriptionStyleModel",
            "description_width": "",
            "_view_module": "@jupyter-widgets/base",
            "_model_module_version": "1.5.0",
            "_view_count": null,
            "_view_module_version": "1.2.0",
            "_model_module": "@jupyter-widgets/controls"
          }
        },
        "85714a05d7394d8795855adaaf8d2a13": {
          "model_module": "@jupyter-widgets/base",
          "model_name": "LayoutModel",
          "state": {
            "_view_name": "LayoutView",
            "grid_template_rows": null,
            "right": null,
            "justify_content": null,
            "_view_module": "@jupyter-widgets/base",
            "overflow": null,
            "_model_module_version": "1.2.0",
            "_view_count": null,
            "flex_flow": null,
            "width": null,
            "min_width": null,
            "border": null,
            "align_items": null,
            "bottom": null,
            "_model_module": "@jupyter-widgets/base",
            "top": null,
            "grid_column": null,
            "overflow_y": null,
            "overflow_x": null,
            "grid_auto_flow": null,
            "grid_area": null,
            "grid_template_columns": null,
            "flex": null,
            "_model_name": "LayoutModel",
            "justify_items": null,
            "grid_row": null,
            "max_height": null,
            "align_content": null,
            "visibility": null,
            "align_self": null,
            "height": null,
            "min_height": null,
            "padding": null,
            "grid_auto_rows": null,
            "grid_gap": null,
            "max_width": null,
            "order": null,
            "_view_module_version": "1.2.0",
            "grid_template_areas": null,
            "object_position": null,
            "object_fit": null,
            "grid_auto_columns": null,
            "margin": null,
            "display": null,
            "left": null
          }
        },
        "985e49934b174b7cb5b9ec95e243784d": {
          "model_module": "@jupyter-widgets/controls",
          "model_name": "HBoxModel",
          "state": {
            "_view_name": "HBoxView",
            "_dom_classes": [],
            "_model_name": "HBoxModel",
            "_view_module": "@jupyter-widgets/controls",
            "_model_module_version": "1.5.0",
            "_view_count": null,
            "_view_module_version": "1.5.0",
            "box_style": "",
            "layout": "IPY_MODEL_5ba13b3145f5452d873d475f1380919f",
            "_model_module": "@jupyter-widgets/controls",
            "children": [
              "IPY_MODEL_7ffb0b621d8b4817a8a9663ff56a85d4",
              "IPY_MODEL_52b80ed881744413a23794fec1c79a17"
            ]
          }
        },
        "5ba13b3145f5452d873d475f1380919f": {
          "model_module": "@jupyter-widgets/base",
          "model_name": "LayoutModel",
          "state": {
            "_view_name": "LayoutView",
            "grid_template_rows": null,
            "right": null,
            "justify_content": null,
            "_view_module": "@jupyter-widgets/base",
            "overflow": null,
            "_model_module_version": "1.2.0",
            "_view_count": null,
            "flex_flow": null,
            "width": null,
            "min_width": null,
            "border": null,
            "align_items": null,
            "bottom": null,
            "_model_module": "@jupyter-widgets/base",
            "top": null,
            "grid_column": null,
            "overflow_y": null,
            "overflow_x": null,
            "grid_auto_flow": null,
            "grid_area": null,
            "grid_template_columns": null,
            "flex": null,
            "_model_name": "LayoutModel",
            "justify_items": null,
            "grid_row": null,
            "max_height": null,
            "align_content": null,
            "visibility": null,
            "align_self": null,
            "height": null,
            "min_height": null,
            "padding": null,
            "grid_auto_rows": null,
            "grid_gap": null,
            "max_width": null,
            "order": null,
            "_view_module_version": "1.2.0",
            "grid_template_areas": null,
            "object_position": null,
            "object_fit": null,
            "grid_auto_columns": null,
            "margin": null,
            "display": null,
            "left": null
          }
        },
        "7ffb0b621d8b4817a8a9663ff56a85d4": {
          "model_module": "@jupyter-widgets/controls",
          "model_name": "FloatProgressModel",
          "state": {
            "_view_name": "ProgressView",
            "style": "IPY_MODEL_62bfadac33a84f1796d5208415bdf7fb",
            "_dom_classes": [],
            "description": "Downloading: 100%",
            "_model_name": "FloatProgressModel",
            "bar_style": "success",
            "max": 28,
            "_view_module": "@jupyter-widgets/controls",
            "_model_module_version": "1.5.0",
            "value": 28,
            "_view_count": null,
            "_view_module_version": "1.5.0",
            "orientation": "horizontal",
            "min": 0,
            "description_tooltip": null,
            "_model_module": "@jupyter-widgets/controls",
            "layout": "IPY_MODEL_dd1e928746b24207b6c5f18fb1c403c2"
          }
        },
        "52b80ed881744413a23794fec1c79a17": {
          "model_module": "@jupyter-widgets/controls",
          "model_name": "HTMLModel",
          "state": {
            "_view_name": "HTMLView",
            "style": "IPY_MODEL_455db594f3a64281b9f950fbca15a764",
            "_dom_classes": [],
            "description": "",
            "_model_name": "HTMLModel",
            "placeholder": "​",
            "_view_module": "@jupyter-widgets/controls",
            "_model_module_version": "1.5.0",
            "value": " 28.0/28.0 [00:00&lt;00:00, 140B/s]",
            "_view_count": null,
            "_view_module_version": "1.5.0",
            "description_tooltip": null,
            "_model_module": "@jupyter-widgets/controls",
            "layout": "IPY_MODEL_4f386bc3ce7049c5979ea3c06adeb8d5"
          }
        },
        "62bfadac33a84f1796d5208415bdf7fb": {
          "model_module": "@jupyter-widgets/controls",
          "model_name": "ProgressStyleModel",
          "state": {
            "_view_name": "StyleView",
            "_model_name": "ProgressStyleModel",
            "description_width": "initial",
            "_view_module": "@jupyter-widgets/base",
            "_model_module_version": "1.5.0",
            "_view_count": null,
            "_view_module_version": "1.2.0",
            "bar_color": null,
            "_model_module": "@jupyter-widgets/controls"
          }
        },
        "dd1e928746b24207b6c5f18fb1c403c2": {
          "model_module": "@jupyter-widgets/base",
          "model_name": "LayoutModel",
          "state": {
            "_view_name": "LayoutView",
            "grid_template_rows": null,
            "right": null,
            "justify_content": null,
            "_view_module": "@jupyter-widgets/base",
            "overflow": null,
            "_model_module_version": "1.2.0",
            "_view_count": null,
            "flex_flow": null,
            "width": null,
            "min_width": null,
            "border": null,
            "align_items": null,
            "bottom": null,
            "_model_module": "@jupyter-widgets/base",
            "top": null,
            "grid_column": null,
            "overflow_y": null,
            "overflow_x": null,
            "grid_auto_flow": null,
            "grid_area": null,
            "grid_template_columns": null,
            "flex": null,
            "_model_name": "LayoutModel",
            "justify_items": null,
            "grid_row": null,
            "max_height": null,
            "align_content": null,
            "visibility": null,
            "align_self": null,
            "height": null,
            "min_height": null,
            "padding": null,
            "grid_auto_rows": null,
            "grid_gap": null,
            "max_width": null,
            "order": null,
            "_view_module_version": "1.2.0",
            "grid_template_areas": null,
            "object_position": null,
            "object_fit": null,
            "grid_auto_columns": null,
            "margin": null,
            "display": null,
            "left": null
          }
        },
        "455db594f3a64281b9f950fbca15a764": {
          "model_module": "@jupyter-widgets/controls",
          "model_name": "DescriptionStyleModel",
          "state": {
            "_view_name": "StyleView",
            "_model_name": "DescriptionStyleModel",
            "description_width": "",
            "_view_module": "@jupyter-widgets/base",
            "_model_module_version": "1.5.0",
            "_view_count": null,
            "_view_module_version": "1.2.0",
            "_model_module": "@jupyter-widgets/controls"
          }
        },
        "4f386bc3ce7049c5979ea3c06adeb8d5": {
          "model_module": "@jupyter-widgets/base",
          "model_name": "LayoutModel",
          "state": {
            "_view_name": "LayoutView",
            "grid_template_rows": null,
            "right": null,
            "justify_content": null,
            "_view_module": "@jupyter-widgets/base",
            "overflow": null,
            "_model_module_version": "1.2.0",
            "_view_count": null,
            "flex_flow": null,
            "width": null,
            "min_width": null,
            "border": null,
            "align_items": null,
            "bottom": null,
            "_model_module": "@jupyter-widgets/base",
            "top": null,
            "grid_column": null,
            "overflow_y": null,
            "overflow_x": null,
            "grid_auto_flow": null,
            "grid_area": null,
            "grid_template_columns": null,
            "flex": null,
            "_model_name": "LayoutModel",
            "justify_items": null,
            "grid_row": null,
            "max_height": null,
            "align_content": null,
            "visibility": null,
            "align_self": null,
            "height": null,
            "min_height": null,
            "padding": null,
            "grid_auto_rows": null,
            "grid_gap": null,
            "max_width": null,
            "order": null,
            "_view_module_version": "1.2.0",
            "grid_template_areas": null,
            "object_position": null,
            "object_fit": null,
            "grid_auto_columns": null,
            "margin": null,
            "display": null,
            "left": null
          }
        },
        "4c68629088354436b06d144ae3719eae": {
          "model_module": "@jupyter-widgets/controls",
          "model_name": "HBoxModel",
          "state": {
            "_view_name": "HBoxView",
            "_dom_classes": [],
            "_model_name": "HBoxModel",
            "_view_module": "@jupyter-widgets/controls",
            "_model_module_version": "1.5.0",
            "_view_count": null,
            "_view_module_version": "1.5.0",
            "box_style": "",
            "layout": "IPY_MODEL_9c4e551fa8954af683338e2ed99d2921",
            "_model_module": "@jupyter-widgets/controls",
            "children": [
              "IPY_MODEL_844a60156ae24698b10354b6cfba5c34",
              "IPY_MODEL_3f5d44e0bc6d4f06b6164f23e021e0bd"
            ]
          }
        },
        "9c4e551fa8954af683338e2ed99d2921": {
          "model_module": "@jupyter-widgets/base",
          "model_name": "LayoutModel",
          "state": {
            "_view_name": "LayoutView",
            "grid_template_rows": null,
            "right": null,
            "justify_content": null,
            "_view_module": "@jupyter-widgets/base",
            "overflow": null,
            "_model_module_version": "1.2.0",
            "_view_count": null,
            "flex_flow": null,
            "width": null,
            "min_width": null,
            "border": null,
            "align_items": null,
            "bottom": null,
            "_model_module": "@jupyter-widgets/base",
            "top": null,
            "grid_column": null,
            "overflow_y": null,
            "overflow_x": null,
            "grid_auto_flow": null,
            "grid_area": null,
            "grid_template_columns": null,
            "flex": null,
            "_model_name": "LayoutModel",
            "justify_items": null,
            "grid_row": null,
            "max_height": null,
            "align_content": null,
            "visibility": null,
            "align_self": null,
            "height": null,
            "min_height": null,
            "padding": null,
            "grid_auto_rows": null,
            "grid_gap": null,
            "max_width": null,
            "order": null,
            "_view_module_version": "1.2.0",
            "grid_template_areas": null,
            "object_position": null,
            "object_fit": null,
            "grid_auto_columns": null,
            "margin": null,
            "display": null,
            "left": null
          }
        },
        "844a60156ae24698b10354b6cfba5c34": {
          "model_module": "@jupyter-widgets/controls",
          "model_name": "FloatProgressModel",
          "state": {
            "_view_name": "ProgressView",
            "style": "IPY_MODEL_7a5be03c461841f5ae4e0a122c20985b",
            "_dom_classes": [],
            "description": "Downloading: 100%",
            "_model_name": "FloatProgressModel",
            "bar_style": "success",
            "max": 466062,
            "_view_module": "@jupyter-widgets/controls",
            "_model_module_version": "1.5.0",
            "value": 466062,
            "_view_count": null,
            "_view_module_version": "1.5.0",
            "orientation": "horizontal",
            "min": 0,
            "description_tooltip": null,
            "_model_module": "@jupyter-widgets/controls",
            "layout": "IPY_MODEL_6e03e16260a2402eb6f811cde0e988e8"
          }
        },
        "3f5d44e0bc6d4f06b6164f23e021e0bd": {
          "model_module": "@jupyter-widgets/controls",
          "model_name": "HTMLModel",
          "state": {
            "_view_name": "HTMLView",
            "style": "IPY_MODEL_88b19aa8af3f46e49323950a1a6ef383",
            "_dom_classes": [],
            "description": "",
            "_model_name": "HTMLModel",
            "placeholder": "​",
            "_view_module": "@jupyter-widgets/controls",
            "_model_module_version": "1.5.0",
            "value": " 466k/466k [00:00&lt;00:00, 2.77MB/s]",
            "_view_count": null,
            "_view_module_version": "1.5.0",
            "description_tooltip": null,
            "_model_module": "@jupyter-widgets/controls",
            "layout": "IPY_MODEL_417b2aff147341eba9e3e0f464756846"
          }
        },
        "7a5be03c461841f5ae4e0a122c20985b": {
          "model_module": "@jupyter-widgets/controls",
          "model_name": "ProgressStyleModel",
          "state": {
            "_view_name": "StyleView",
            "_model_name": "ProgressStyleModel",
            "description_width": "initial",
            "_view_module": "@jupyter-widgets/base",
            "_model_module_version": "1.5.0",
            "_view_count": null,
            "_view_module_version": "1.2.0",
            "bar_color": null,
            "_model_module": "@jupyter-widgets/controls"
          }
        },
        "6e03e16260a2402eb6f811cde0e988e8": {
          "model_module": "@jupyter-widgets/base",
          "model_name": "LayoutModel",
          "state": {
            "_view_name": "LayoutView",
            "grid_template_rows": null,
            "right": null,
            "justify_content": null,
            "_view_module": "@jupyter-widgets/base",
            "overflow": null,
            "_model_module_version": "1.2.0",
            "_view_count": null,
            "flex_flow": null,
            "width": null,
            "min_width": null,
            "border": null,
            "align_items": null,
            "bottom": null,
            "_model_module": "@jupyter-widgets/base",
            "top": null,
            "grid_column": null,
            "overflow_y": null,
            "overflow_x": null,
            "grid_auto_flow": null,
            "grid_area": null,
            "grid_template_columns": null,
            "flex": null,
            "_model_name": "LayoutModel",
            "justify_items": null,
            "grid_row": null,
            "max_height": null,
            "align_content": null,
            "visibility": null,
            "align_self": null,
            "height": null,
            "min_height": null,
            "padding": null,
            "grid_auto_rows": null,
            "grid_gap": null,
            "max_width": null,
            "order": null,
            "_view_module_version": "1.2.0",
            "grid_template_areas": null,
            "object_position": null,
            "object_fit": null,
            "grid_auto_columns": null,
            "margin": null,
            "display": null,
            "left": null
          }
        },
        "88b19aa8af3f46e49323950a1a6ef383": {
          "model_module": "@jupyter-widgets/controls",
          "model_name": "DescriptionStyleModel",
          "state": {
            "_view_name": "StyleView",
            "_model_name": "DescriptionStyleModel",
            "description_width": "",
            "_view_module": "@jupyter-widgets/base",
            "_model_module_version": "1.5.0",
            "_view_count": null,
            "_view_module_version": "1.2.0",
            "_model_module": "@jupyter-widgets/controls"
          }
        },
        "417b2aff147341eba9e3e0f464756846": {
          "model_module": "@jupyter-widgets/base",
          "model_name": "LayoutModel",
          "state": {
            "_view_name": "LayoutView",
            "grid_template_rows": null,
            "right": null,
            "justify_content": null,
            "_view_module": "@jupyter-widgets/base",
            "overflow": null,
            "_model_module_version": "1.2.0",
            "_view_count": null,
            "flex_flow": null,
            "width": null,
            "min_width": null,
            "border": null,
            "align_items": null,
            "bottom": null,
            "_model_module": "@jupyter-widgets/base",
            "top": null,
            "grid_column": null,
            "overflow_y": null,
            "overflow_x": null,
            "grid_auto_flow": null,
            "grid_area": null,
            "grid_template_columns": null,
            "flex": null,
            "_model_name": "LayoutModel",
            "justify_items": null,
            "grid_row": null,
            "max_height": null,
            "align_content": null,
            "visibility": null,
            "align_self": null,
            "height": null,
            "min_height": null,
            "padding": null,
            "grid_auto_rows": null,
            "grid_gap": null,
            "max_width": null,
            "order": null,
            "_view_module_version": "1.2.0",
            "grid_template_areas": null,
            "object_position": null,
            "object_fit": null,
            "grid_auto_columns": null,
            "margin": null,
            "display": null,
            "left": null
          }
        },
        "75c5c3984d98496bad4fc1d26b4844fa": {
          "model_module": "@jupyter-widgets/controls",
          "model_name": "HBoxModel",
          "state": {
            "_view_name": "HBoxView",
            "_dom_classes": [],
            "_model_name": "HBoxModel",
            "_view_module": "@jupyter-widgets/controls",
            "_model_module_version": "1.5.0",
            "_view_count": null,
            "_view_module_version": "1.5.0",
            "box_style": "",
            "layout": "IPY_MODEL_02e2b6db445940079600f47e7b73e222",
            "_model_module": "@jupyter-widgets/controls",
            "children": [
              "IPY_MODEL_d5296866c07f4fe6a5fbc10b647e34f2",
              "IPY_MODEL_ef0d2d7a99a64d9d87a1a23d986ab636"
            ]
          }
        },
        "02e2b6db445940079600f47e7b73e222": {
          "model_module": "@jupyter-widgets/base",
          "model_name": "LayoutModel",
          "state": {
            "_view_name": "LayoutView",
            "grid_template_rows": null,
            "right": null,
            "justify_content": null,
            "_view_module": "@jupyter-widgets/base",
            "overflow": null,
            "_model_module_version": "1.2.0",
            "_view_count": null,
            "flex_flow": null,
            "width": null,
            "min_width": null,
            "border": null,
            "align_items": null,
            "bottom": null,
            "_model_module": "@jupyter-widgets/base",
            "top": null,
            "grid_column": null,
            "overflow_y": null,
            "overflow_x": null,
            "grid_auto_flow": null,
            "grid_area": null,
            "grid_template_columns": null,
            "flex": null,
            "_model_name": "LayoutModel",
            "justify_items": null,
            "grid_row": null,
            "max_height": null,
            "align_content": null,
            "visibility": null,
            "align_self": null,
            "height": null,
            "min_height": null,
            "padding": null,
            "grid_auto_rows": null,
            "grid_gap": null,
            "max_width": null,
            "order": null,
            "_view_module_version": "1.2.0",
            "grid_template_areas": null,
            "object_position": null,
            "object_fit": null,
            "grid_auto_columns": null,
            "margin": null,
            "display": null,
            "left": null
          }
        },
        "d5296866c07f4fe6a5fbc10b647e34f2": {
          "model_module": "@jupyter-widgets/controls",
          "model_name": "FloatProgressModel",
          "state": {
            "_view_name": "ProgressView",
            "style": "IPY_MODEL_dd4ed117c12440db99f0b0aeacad2505",
            "_dom_classes": [],
            "description": "Downloading: 100%",
            "_model_name": "FloatProgressModel",
            "bar_style": "success",
            "max": 442,
            "_view_module": "@jupyter-widgets/controls",
            "_model_module_version": "1.5.0",
            "value": 442,
            "_view_count": null,
            "_view_module_version": "1.5.0",
            "orientation": "horizontal",
            "min": 0,
            "description_tooltip": null,
            "_model_module": "@jupyter-widgets/controls",
            "layout": "IPY_MODEL_893f8d0f5c20447b87bf2b9f36e551eb"
          }
        },
        "ef0d2d7a99a64d9d87a1a23d986ab636": {
          "model_module": "@jupyter-widgets/controls",
          "model_name": "HTMLModel",
          "state": {
            "_view_name": "HTMLView",
            "style": "IPY_MODEL_9bfb164e4c6f49d18d11c4f17b0bba82",
            "_dom_classes": [],
            "description": "",
            "_model_name": "HTMLModel",
            "placeholder": "​",
            "_view_module": "@jupyter-widgets/controls",
            "_model_module_version": "1.5.0",
            "value": " 442/442 [00:00&lt;00:00, 947B/s]",
            "_view_count": null,
            "_view_module_version": "1.5.0",
            "description_tooltip": null,
            "_model_module": "@jupyter-widgets/controls",
            "layout": "IPY_MODEL_38741a48d574437796e8c6c8c672eeaf"
          }
        },
        "dd4ed117c12440db99f0b0aeacad2505": {
          "model_module": "@jupyter-widgets/controls",
          "model_name": "ProgressStyleModel",
          "state": {
            "_view_name": "StyleView",
            "_model_name": "ProgressStyleModel",
            "description_width": "initial",
            "_view_module": "@jupyter-widgets/base",
            "_model_module_version": "1.5.0",
            "_view_count": null,
            "_view_module_version": "1.2.0",
            "bar_color": null,
            "_model_module": "@jupyter-widgets/controls"
          }
        },
        "893f8d0f5c20447b87bf2b9f36e551eb": {
          "model_module": "@jupyter-widgets/base",
          "model_name": "LayoutModel",
          "state": {
            "_view_name": "LayoutView",
            "grid_template_rows": null,
            "right": null,
            "justify_content": null,
            "_view_module": "@jupyter-widgets/base",
            "overflow": null,
            "_model_module_version": "1.2.0",
            "_view_count": null,
            "flex_flow": null,
            "width": null,
            "min_width": null,
            "border": null,
            "align_items": null,
            "bottom": null,
            "_model_module": "@jupyter-widgets/base",
            "top": null,
            "grid_column": null,
            "overflow_y": null,
            "overflow_x": null,
            "grid_auto_flow": null,
            "grid_area": null,
            "grid_template_columns": null,
            "flex": null,
            "_model_name": "LayoutModel",
            "justify_items": null,
            "grid_row": null,
            "max_height": null,
            "align_content": null,
            "visibility": null,
            "align_self": null,
            "height": null,
            "min_height": null,
            "padding": null,
            "grid_auto_rows": null,
            "grid_gap": null,
            "max_width": null,
            "order": null,
            "_view_module_version": "1.2.0",
            "grid_template_areas": null,
            "object_position": null,
            "object_fit": null,
            "grid_auto_columns": null,
            "margin": null,
            "display": null,
            "left": null
          }
        },
        "9bfb164e4c6f49d18d11c4f17b0bba82": {
          "model_module": "@jupyter-widgets/controls",
          "model_name": "DescriptionStyleModel",
          "state": {
            "_view_name": "StyleView",
            "_model_name": "DescriptionStyleModel",
            "description_width": "",
            "_view_module": "@jupyter-widgets/base",
            "_model_module_version": "1.5.0",
            "_view_count": null,
            "_view_module_version": "1.2.0",
            "_model_module": "@jupyter-widgets/controls"
          }
        },
        "38741a48d574437796e8c6c8c672eeaf": {
          "model_module": "@jupyter-widgets/base",
          "model_name": "LayoutModel",
          "state": {
            "_view_name": "LayoutView",
            "grid_template_rows": null,
            "right": null,
            "justify_content": null,
            "_view_module": "@jupyter-widgets/base",
            "overflow": null,
            "_model_module_version": "1.2.0",
            "_view_count": null,
            "flex_flow": null,
            "width": null,
            "min_width": null,
            "border": null,
            "align_items": null,
            "bottom": null,
            "_model_module": "@jupyter-widgets/base",
            "top": null,
            "grid_column": null,
            "overflow_y": null,
            "overflow_x": null,
            "grid_auto_flow": null,
            "grid_area": null,
            "grid_template_columns": null,
            "flex": null,
            "_model_name": "LayoutModel",
            "justify_items": null,
            "grid_row": null,
            "max_height": null,
            "align_content": null,
            "visibility": null,
            "align_self": null,
            "height": null,
            "min_height": null,
            "padding": null,
            "grid_auto_rows": null,
            "grid_gap": null,
            "max_width": null,
            "order": null,
            "_view_module_version": "1.2.0",
            "grid_template_areas": null,
            "object_position": null,
            "object_fit": null,
            "grid_auto_columns": null,
            "margin": null,
            "display": null,
            "left": null
          }
        },
        "d2c2ba5b945c4b0f8d8bdcba843449f5": {
          "model_module": "@jupyter-widgets/controls",
          "model_name": "HBoxModel",
          "state": {
            "_view_name": "HBoxView",
            "_dom_classes": [],
            "_model_name": "HBoxModel",
            "_view_module": "@jupyter-widgets/controls",
            "_model_module_version": "1.5.0",
            "_view_count": null,
            "_view_module_version": "1.5.0",
            "box_style": "",
            "layout": "IPY_MODEL_5ad8bc0f9ee74a5eae3c1012abe82b0b",
            "_model_module": "@jupyter-widgets/controls",
            "children": [
              "IPY_MODEL_19548bc961a0494589e1a46f47f62e2b",
              "IPY_MODEL_727956a2cc2546cebeb3517ee453f4c5"
            ]
          }
        },
        "5ad8bc0f9ee74a5eae3c1012abe82b0b": {
          "model_module": "@jupyter-widgets/base",
          "model_name": "LayoutModel",
          "state": {
            "_view_name": "LayoutView",
            "grid_template_rows": null,
            "right": null,
            "justify_content": null,
            "_view_module": "@jupyter-widgets/base",
            "overflow": null,
            "_model_module_version": "1.2.0",
            "_view_count": null,
            "flex_flow": null,
            "width": null,
            "min_width": null,
            "border": null,
            "align_items": null,
            "bottom": null,
            "_model_module": "@jupyter-widgets/base",
            "top": null,
            "grid_column": null,
            "overflow_y": null,
            "overflow_x": null,
            "grid_auto_flow": null,
            "grid_area": null,
            "grid_template_columns": null,
            "flex": null,
            "_model_name": "LayoutModel",
            "justify_items": null,
            "grid_row": null,
            "max_height": null,
            "align_content": null,
            "visibility": null,
            "align_self": null,
            "height": null,
            "min_height": null,
            "padding": null,
            "grid_auto_rows": null,
            "grid_gap": null,
            "max_width": null,
            "order": null,
            "_view_module_version": "1.2.0",
            "grid_template_areas": null,
            "object_position": null,
            "object_fit": null,
            "grid_auto_columns": null,
            "margin": null,
            "display": null,
            "left": null
          }
        },
        "19548bc961a0494589e1a46f47f62e2b": {
          "model_module": "@jupyter-widgets/controls",
          "model_name": "FloatProgressModel",
          "state": {
            "_view_name": "ProgressView",
            "style": "IPY_MODEL_bd6ce77383014510be7d6d6a9ffcdca1",
            "_dom_classes": [],
            "description": "Downloading: 100%",
            "_model_name": "FloatProgressModel",
            "bar_style": "success",
            "max": 363423424,
            "_view_module": "@jupyter-widgets/controls",
            "_model_module_version": "1.5.0",
            "value": 363423424,
            "_view_count": null,
            "_view_module_version": "1.5.0",
            "orientation": "horizontal",
            "min": 0,
            "description_tooltip": null,
            "_model_module": "@jupyter-widgets/controls",
            "layout": "IPY_MODEL_ee13347cc7d34e3f911cff3fd104e4f1"
          }
        },
        "727956a2cc2546cebeb3517ee453f4c5": {
          "model_module": "@jupyter-widgets/controls",
          "model_name": "HTMLModel",
          "state": {
            "_view_name": "HTMLView",
            "style": "IPY_MODEL_f176256c50344b81adbc4b3fc6180842",
            "_dom_classes": [],
            "description": "",
            "_model_name": "HTMLModel",
            "placeholder": "​",
            "_view_module": "@jupyter-widgets/controls",
            "_model_module_version": "1.5.0",
            "value": " 363M/363M [00:09&lt;00:00, 39.6MB/s]",
            "_view_count": null,
            "_view_module_version": "1.5.0",
            "description_tooltip": null,
            "_model_module": "@jupyter-widgets/controls",
            "layout": "IPY_MODEL_fb03276b81024d2bb3ca4e9c8d46423f"
          }
        },
        "bd6ce77383014510be7d6d6a9ffcdca1": {
          "model_module": "@jupyter-widgets/controls",
          "model_name": "ProgressStyleModel",
          "state": {
            "_view_name": "StyleView",
            "_model_name": "ProgressStyleModel",
            "description_width": "initial",
            "_view_module": "@jupyter-widgets/base",
            "_model_module_version": "1.5.0",
            "_view_count": null,
            "_view_module_version": "1.2.0",
            "bar_color": null,
            "_model_module": "@jupyter-widgets/controls"
          }
        },
        "ee13347cc7d34e3f911cff3fd104e4f1": {
          "model_module": "@jupyter-widgets/base",
          "model_name": "LayoutModel",
          "state": {
            "_view_name": "LayoutView",
            "grid_template_rows": null,
            "right": null,
            "justify_content": null,
            "_view_module": "@jupyter-widgets/base",
            "overflow": null,
            "_model_module_version": "1.2.0",
            "_view_count": null,
            "flex_flow": null,
            "width": null,
            "min_width": null,
            "border": null,
            "align_items": null,
            "bottom": null,
            "_model_module": "@jupyter-widgets/base",
            "top": null,
            "grid_column": null,
            "overflow_y": null,
            "overflow_x": null,
            "grid_auto_flow": null,
            "grid_area": null,
            "grid_template_columns": null,
            "flex": null,
            "_model_name": "LayoutModel",
            "justify_items": null,
            "grid_row": null,
            "max_height": null,
            "align_content": null,
            "visibility": null,
            "align_self": null,
            "height": null,
            "min_height": null,
            "padding": null,
            "grid_auto_rows": null,
            "grid_gap": null,
            "max_width": null,
            "order": null,
            "_view_module_version": "1.2.0",
            "grid_template_areas": null,
            "object_position": null,
            "object_fit": null,
            "grid_auto_columns": null,
            "margin": null,
            "display": null,
            "left": null
          }
        },
        "f176256c50344b81adbc4b3fc6180842": {
          "model_module": "@jupyter-widgets/controls",
          "model_name": "DescriptionStyleModel",
          "state": {
            "_view_name": "StyleView",
            "_model_name": "DescriptionStyleModel",
            "description_width": "",
            "_view_module": "@jupyter-widgets/base",
            "_model_module_version": "1.5.0",
            "_view_count": null,
            "_view_module_version": "1.2.0",
            "_model_module": "@jupyter-widgets/controls"
          }
        },
        "fb03276b81024d2bb3ca4e9c8d46423f": {
          "model_module": "@jupyter-widgets/base",
          "model_name": "LayoutModel",
          "state": {
            "_view_name": "LayoutView",
            "grid_template_rows": null,
            "right": null,
            "justify_content": null,
            "_view_module": "@jupyter-widgets/base",
            "overflow": null,
            "_model_module_version": "1.2.0",
            "_view_count": null,
            "flex_flow": null,
            "width": null,
            "min_width": null,
            "border": null,
            "align_items": null,
            "bottom": null,
            "_model_module": "@jupyter-widgets/base",
            "top": null,
            "grid_column": null,
            "overflow_y": null,
            "overflow_x": null,
            "grid_auto_flow": null,
            "grid_area": null,
            "grid_template_columns": null,
            "flex": null,
            "_model_name": "LayoutModel",
            "justify_items": null,
            "grid_row": null,
            "max_height": null,
            "align_content": null,
            "visibility": null,
            "align_self": null,
            "height": null,
            "min_height": null,
            "padding": null,
            "grid_auto_rows": null,
            "grid_gap": null,
            "max_width": null,
            "order": null,
            "_view_module_version": "1.2.0",
            "grid_template_areas": null,
            "object_position": null,
            "object_fit": null,
            "grid_auto_columns": null,
            "margin": null,
            "display": null,
            "left": null
          }
        }
      }
    }
  },
  "cells": [
    {
      "cell_type": "code",
      "metadata": {
        "colab": {
          "base_uri": "https://localhost:8080/"
        },
        "id": "KEeU63yTuI2r",
        "outputId": "84236b2f-9b7b-4b98-ae42-bbdb9690d6a0"
      },
      "source": [
        "! pip install transformers"
      ],
      "execution_count": 1,
      "outputs": [
        {
          "output_type": "stream",
          "text": [
            "Collecting transformers\n",
            "\u001b[?25l  Downloading https://files.pythonhosted.org/packages/b0/9e/5b80becd952d5f7250eaf8fc64b957077b12ccfe73e9c03d37146ab29712/transformers-4.6.0-py3-none-any.whl (2.3MB)\n",
            "\u001b[K     |████████████████████████████████| 2.3MB 4.0MB/s \n",
            "\u001b[?25hRequirement already satisfied: regex!=2019.12.17 in /usr/local/lib/python3.7/dist-packages (from transformers) (2019.12.20)\n",
            "Requirement already satisfied: numpy>=1.17 in /usr/local/lib/python3.7/dist-packages (from transformers) (1.19.5)\n",
            "Requirement already satisfied: importlib-metadata; python_version < \"3.8\" in /usr/local/lib/python3.7/dist-packages (from transformers) (4.0.1)\n",
            "Requirement already satisfied: requests in /usr/local/lib/python3.7/dist-packages (from transformers) (2.23.0)\n",
            "Collecting sacremoses\n",
            "\u001b[?25l  Downloading https://files.pythonhosted.org/packages/75/ee/67241dc87f266093c533a2d4d3d69438e57d7a90abb216fa076e7d475d4a/sacremoses-0.0.45-py3-none-any.whl (895kB)\n",
            "\u001b[K     |████████████████████████████████| 901kB 36.9MB/s \n",
            "\u001b[?25hCollecting tokenizers<0.11,>=0.10.1\n",
            "\u001b[?25l  Downloading https://files.pythonhosted.org/packages/ae/04/5b870f26a858552025a62f1649c20d29d2672c02ff3c3fb4c688ca46467a/tokenizers-0.10.2-cp37-cp37m-manylinux2010_x86_64.whl (3.3MB)\n",
            "\u001b[K     |████████████████████████████████| 3.3MB 38.3MB/s \n",
            "\u001b[?25hRequirement already satisfied: packaging in /usr/local/lib/python3.7/dist-packages (from transformers) (20.9)\n",
            "Requirement already satisfied: filelock in /usr/local/lib/python3.7/dist-packages (from transformers) (3.0.12)\n",
            "Collecting huggingface-hub==0.0.8\n",
            "  Downloading https://files.pythonhosted.org/packages/a1/88/7b1e45720ecf59c6c6737ff332f41c955963090a18e72acbcbeac6b25e86/huggingface_hub-0.0.8-py3-none-any.whl\n",
            "Requirement already satisfied: tqdm>=4.27 in /usr/local/lib/python3.7/dist-packages (from transformers) (4.41.1)\n",
            "Requirement already satisfied: typing-extensions>=3.6.4; python_version < \"3.8\" in /usr/local/lib/python3.7/dist-packages (from importlib-metadata; python_version < \"3.8\"->transformers) (3.7.4.3)\n",
            "Requirement already satisfied: zipp>=0.5 in /usr/local/lib/python3.7/dist-packages (from importlib-metadata; python_version < \"3.8\"->transformers) (3.4.1)\n",
            "Requirement already satisfied: certifi>=2017.4.17 in /usr/local/lib/python3.7/dist-packages (from requests->transformers) (2020.12.5)\n",
            "Requirement already satisfied: urllib3!=1.25.0,!=1.25.1,<1.26,>=1.21.1 in /usr/local/lib/python3.7/dist-packages (from requests->transformers) (1.24.3)\n",
            "Requirement already satisfied: idna<3,>=2.5 in /usr/local/lib/python3.7/dist-packages (from requests->transformers) (2.10)\n",
            "Requirement already satisfied: chardet<4,>=3.0.2 in /usr/local/lib/python3.7/dist-packages (from requests->transformers) (3.0.4)\n",
            "Requirement already satisfied: joblib in /usr/local/lib/python3.7/dist-packages (from sacremoses->transformers) (1.0.1)\n",
            "Requirement already satisfied: click in /usr/local/lib/python3.7/dist-packages (from sacremoses->transformers) (8.0.0)\n",
            "Requirement already satisfied: six in /usr/local/lib/python3.7/dist-packages (from sacremoses->transformers) (1.15.0)\n",
            "Requirement already satisfied: pyparsing>=2.0.2 in /usr/local/lib/python3.7/dist-packages (from packaging->transformers) (2.4.7)\n",
            "Installing collected packages: sacremoses, tokenizers, huggingface-hub, transformers\n",
            "Successfully installed huggingface-hub-0.0.8 sacremoses-0.0.45 tokenizers-0.10.2 transformers-4.6.0\n"
          ],
          "name": "stdout"
        }
      ]
    },
    {
      "cell_type": "code",
      "metadata": {
        "colab": {
          "base_uri": "https://localhost:8080/"
        },
        "id": "bGmi22JQvV2f",
        "outputId": "553a7f04-1781-4590-e3c7-e1d603650858"
      },
      "source": [
        "import tensorflow as tf\n",
        "print(tf.__version__)"
      ],
      "execution_count": 2,
      "outputs": [
        {
          "output_type": "stream",
          "text": [
            "2.4.1\n"
          ],
          "name": "stdout"
        }
      ]
    },
    {
      "cell_type": "code",
      "metadata": {
        "colab": {
          "base_uri": "https://localhost:8080/",
          "height": 163,
          "referenced_widgets": [
            "ed0f6e32090b408da8f69115b8c666b7",
            "6f9af95d196644c6add02e0a7d5b380e",
            "48bcf3501df44a26b798a575a883cea5",
            "9248fd51c91c4c5dbb4e9b99ce17a1da",
            "d20928175ffb4559934e2d2a997f553f",
            "ab1c644a9e064b5cb55c97d204de5abd",
            "571561c561734dd282d2813945b0402d",
            "e2616e31473147a3ab95cb6c3c00bb46",
            "482bb44576554c75acb40a887755df97",
            "94ef611774be49c5897a43389aacf75e",
            "10c68d60fe4a4dc7924de573252f65d3",
            "28ad474e003148c5b19b2661444198f1",
            "1be5829a1e6443489e1fb95aa3b42477",
            "3d5a8967ba5645d4b278a5335b804edb",
            "75510a7e958246899042a2de1a4ac80c",
            "1d0ad1db4c494d42a24f3311ce7454c4",
            "512c44e20ac24bdb9620d5b64e253112",
            "0181bf06eac3443da341b3d74cd31015",
            "0de141fff20a459f84959d6ee83a857e",
            "34d3e4650d8b4bbdbe9fc6b30f208a8b",
            "115725ca0e754799a0ee1226d5cfd3f2",
            "51bd3755fbd04e6e9daef50e68defa19",
            "3a170e7deef3424c944c08ff49d706b3",
            "cdc831176ba7495db9cb9b31d6fdda36"
          ]
        },
        "id": "FKYScGUkvhbu",
        "outputId": "8120cb58-651e-4975-97c0-89445daa4325"
      },
      "source": [
        "from transformers import BertTokenizer\n",
        "bert_token=BertTokenizer.from_pretrained('bert-base-cased')"
      ],
      "execution_count": 3,
      "outputs": [
        {
          "output_type": "display_data",
          "data": {
            "application/vnd.jupyter.widget-view+json": {
              "model_id": "ed0f6e32090b408da8f69115b8c666b7",
              "version_minor": 0,
              "version_major": 2
            },
            "text/plain": [
              "HBox(children=(FloatProgress(value=0.0, description='Downloading', max=213450.0, style=ProgressStyle(descripti…"
            ]
          },
          "metadata": {
            "tags": []
          }
        },
        {
          "output_type": "stream",
          "text": [
            "\n"
          ],
          "name": "stdout"
        },
        {
          "output_type": "display_data",
          "data": {
            "application/vnd.jupyter.widget-view+json": {
              "model_id": "482bb44576554c75acb40a887755df97",
              "version_minor": 0,
              "version_major": 2
            },
            "text/plain": [
              "HBox(children=(FloatProgress(value=0.0, description='Downloading', max=29.0, style=ProgressStyle(description_w…"
            ]
          },
          "metadata": {
            "tags": []
          }
        },
        {
          "output_type": "stream",
          "text": [
            "\n"
          ],
          "name": "stdout"
        },
        {
          "output_type": "display_data",
          "data": {
            "application/vnd.jupyter.widget-view+json": {
              "model_id": "512c44e20ac24bdb9620d5b64e253112",
              "version_minor": 0,
              "version_major": 2
            },
            "text/plain": [
              "HBox(children=(FloatProgress(value=0.0, description='Downloading', max=435797.0, style=ProgressStyle(descripti…"
            ]
          },
          "metadata": {
            "tags": []
          }
        },
        {
          "output_type": "stream",
          "text": [
            "\n"
          ],
          "name": "stdout"
        }
      ]
    },
    {
      "cell_type": "code",
      "metadata": {
        "colab": {
          "base_uri": "https://localhost:8080/",
          "height": 35
        },
        "id": "I4dZ2CLqwASf",
        "outputId": "af468e71-f153-47fe-8590-04a7644d57ef"
      },
      "source": [
        "bert_token.cls_token"
      ],
      "execution_count": 4,
      "outputs": [
        {
          "output_type": "execute_result",
          "data": {
            "application/vnd.google.colaboratory.intrinsic+json": {
              "type": "string"
            },
            "text/plain": [
              "'[CLS]'"
            ]
          },
          "metadata": {
            "tags": []
          },
          "execution_count": 4
        }
      ]
    },
    {
      "cell_type": "code",
      "metadata": {
        "colab": {
          "base_uri": "https://localhost:8080/",
          "height": 69
        },
        "id": "p1bPtLEZwKwT",
        "outputId": "b89edb48-10d1-45bb-d80a-f89e1ef82dac"
      },
      "source": [
        "enc=bert_token.encode('hi, this is me 13am')\n",
        "print(enc)\n",
        "dec=bert_token.decode(enc)\n",
        "print(type(dec))\n",
        "dec"
      ],
      "execution_count": 6,
      "outputs": [
        {
          "output_type": "stream",
          "text": [
            "[101, 20844, 117, 1142, 1110, 1143, 1492, 2312, 102]\n",
            "<class 'str'>\n"
          ],
          "name": "stdout"
        },
        {
          "output_type": "execute_result",
          "data": {
            "application/vnd.google.colaboratory.intrinsic+json": {
              "type": "string"
            },
            "text/plain": [
              "'[CLS] hi, this is me 13am [SEP]'"
            ]
          },
          "metadata": {
            "tags": []
          },
          "execution_count": 6
        }
      ]
    },
    {
      "cell_type": "code",
      "metadata": {
        "colab": {
          "base_uri": "https://localhost:8080/",
          "height": 365,
          "referenced_widgets": [
            "53262c4c9ea143faa27b125b9ccae6cd",
            "dd94dcfbf7d84ddab13faf3c856efa77",
            "e589d128869d487e8bb3efad8bb4de56",
            "c6faf04292a24e86b324100cde154998",
            "f39d3ec919f34bf897af1115252c6d3b",
            "ac1db871b9974573b6e2e509986c5545",
            "dd2252f549e74d9ab323110e2c079d28",
            "85714a05d7394d8795855adaaf8d2a13",
            "985e49934b174b7cb5b9ec95e243784d",
            "5ba13b3145f5452d873d475f1380919f",
            "7ffb0b621d8b4817a8a9663ff56a85d4",
            "52b80ed881744413a23794fec1c79a17",
            "62bfadac33a84f1796d5208415bdf7fb",
            "dd1e928746b24207b6c5f18fb1c403c2",
            "455db594f3a64281b9f950fbca15a764",
            "4f386bc3ce7049c5979ea3c06adeb8d5",
            "4c68629088354436b06d144ae3719eae",
            "9c4e551fa8954af683338e2ed99d2921",
            "844a60156ae24698b10354b6cfba5c34",
            "3f5d44e0bc6d4f06b6164f23e021e0bd",
            "7a5be03c461841f5ae4e0a122c20985b",
            "6e03e16260a2402eb6f811cde0e988e8",
            "88b19aa8af3f46e49323950a1a6ef383",
            "417b2aff147341eba9e3e0f464756846",
            "75c5c3984d98496bad4fc1d26b4844fa",
            "02e2b6db445940079600f47e7b73e222",
            "d5296866c07f4fe6a5fbc10b647e34f2",
            "ef0d2d7a99a64d9d87a1a23d986ab636",
            "dd4ed117c12440db99f0b0aeacad2505",
            "893f8d0f5c20447b87bf2b9f36e551eb",
            "9bfb164e4c6f49d18d11c4f17b0bba82",
            "38741a48d574437796e8c6c8c672eeaf",
            "d2c2ba5b945c4b0f8d8bdcba843449f5",
            "5ad8bc0f9ee74a5eae3c1012abe82b0b",
            "19548bc961a0494589e1a46f47f62e2b",
            "727956a2cc2546cebeb3517ee453f4c5",
            "bd6ce77383014510be7d6d6a9ffcdca1",
            "ee13347cc7d34e3f911cff3fd104e4f1",
            "f176256c50344b81adbc4b3fc6180842",
            "fb03276b81024d2bb3ca4e9c8d46423f"
          ]
        },
        "id": "SFniRR_6wgA0",
        "outputId": "1dc12b66-3331-4230-f791-0060ef692d0f"
      },
      "source": [
        "from transformers import DistilBertTokenizer,TFDistilBertModel\n",
        "\n",
        "distilbert='distilbert-base-uncased'\n",
        "db=DistilBertTokenizer.from_pretrained(distilbert)\n",
        "model=TFDistilBertModel.from_pretrained(distilbert)"
      ],
      "execution_count": 7,
      "outputs": [
        {
          "output_type": "display_data",
          "data": {
            "application/vnd.jupyter.widget-view+json": {
              "model_id": "53262c4c9ea143faa27b125b9ccae6cd",
              "version_minor": 0,
              "version_major": 2
            },
            "text/plain": [
              "HBox(children=(FloatProgress(value=0.0, description='Downloading', max=231508.0, style=ProgressStyle(descripti…"
            ]
          },
          "metadata": {
            "tags": []
          }
        },
        {
          "output_type": "stream",
          "text": [
            "\n"
          ],
          "name": "stdout"
        },
        {
          "output_type": "display_data",
          "data": {
            "application/vnd.jupyter.widget-view+json": {
              "model_id": "985e49934b174b7cb5b9ec95e243784d",
              "version_minor": 0,
              "version_major": 2
            },
            "text/plain": [
              "HBox(children=(FloatProgress(value=0.0, description='Downloading', max=28.0, style=ProgressStyle(description_w…"
            ]
          },
          "metadata": {
            "tags": []
          }
        },
        {
          "output_type": "stream",
          "text": [
            "\n"
          ],
          "name": "stdout"
        },
        {
          "output_type": "display_data",
          "data": {
            "application/vnd.jupyter.widget-view+json": {
              "model_id": "4c68629088354436b06d144ae3719eae",
              "version_minor": 0,
              "version_major": 2
            },
            "text/plain": [
              "HBox(children=(FloatProgress(value=0.0, description='Downloading', max=466062.0, style=ProgressStyle(descripti…"
            ]
          },
          "metadata": {
            "tags": []
          }
        },
        {
          "output_type": "stream",
          "text": [
            "\n"
          ],
          "name": "stdout"
        },
        {
          "output_type": "display_data",
          "data": {
            "application/vnd.jupyter.widget-view+json": {
              "model_id": "75c5c3984d98496bad4fc1d26b4844fa",
              "version_minor": 0,
              "version_major": 2
            },
            "text/plain": [
              "HBox(children=(FloatProgress(value=0.0, description='Downloading', max=442.0, style=ProgressStyle(description_…"
            ]
          },
          "metadata": {
            "tags": []
          }
        },
        {
          "output_type": "stream",
          "text": [
            "\n"
          ],
          "name": "stdout"
        },
        {
          "output_type": "display_data",
          "data": {
            "application/vnd.jupyter.widget-view+json": {
              "model_id": "d2c2ba5b945c4b0f8d8bdcba843449f5",
              "version_minor": 0,
              "version_major": 2
            },
            "text/plain": [
              "HBox(children=(FloatProgress(value=0.0, description='Downloading', max=363423424.0, style=ProgressStyle(descri…"
            ]
          },
          "metadata": {
            "tags": []
          }
        },
        {
          "output_type": "stream",
          "text": [
            "\n"
          ],
          "name": "stdout"
        },
        {
          "output_type": "stream",
          "text": [
            "Some layers from the model checkpoint at distilbert-base-uncased were not used when initializing TFDistilBertModel: ['vocab_layer_norm', 'vocab_transform', 'vocab_projector', 'activation_13']\n",
            "- This IS expected if you are initializing TFDistilBertModel from the checkpoint of a model trained on another task or with another architecture (e.g. initializing a BertForSequenceClassification model from a BertForPreTraining model).\n",
            "- This IS NOT expected if you are initializing TFDistilBertModel from the checkpoint of a model that you expect to be exactly identical (initializing a BertForSequenceClassification model from a BertForSequenceClassification model).\n",
            "All the layers of TFDistilBertModel were initialized from the model checkpoint at distilbert-base-uncased.\n",
            "If your task is similar to the task the model of the checkpoint was trained on, you can already use TFDistilBertModel for predictions without further training.\n"
          ],
          "name": "stderr"
        }
      ]
    },
    {
      "cell_type": "code",
      "metadata": {
        "colab": {
          "base_uri": "https://localhost:8080/"
        },
        "id": "0C6vCErzxZBH",
        "outputId": "0069f0a2-3284-4921-a0de-d968134eb777"
      },
      "source": [
        "e=db.encode('hi this is my new notebook')\n",
        "print(e)\n",
        "\n",
        "input=tf.constant(e)[None,:]\n",
        "print(type(input))\n",
        "print(input)\n",
        "\n",
        "output=model(input)\n",
        "print(type(output))\n",
        "print(output)\n"
      ],
      "execution_count": 10,
      "outputs": [
        {
          "output_type": "stream",
          "text": [
            "[101, 7632, 2023, 2003, 2026, 2047, 14960, 102]\n",
            "<class 'tensorflow.python.framework.ops.EagerTensor'>\n",
            "tf.Tensor([[  101  7632  2023  2003  2026  2047 14960   102]], shape=(1, 8), dtype=int32)\n",
            "<class 'transformers.modeling_tf_outputs.TFBaseModelOutput'>\n",
            "TFBaseModelOutput(last_hidden_state=<tf.Tensor: shape=(1, 8, 768), dtype=float32, numpy=\n",
            "array([[[-0.04593655,  0.00333157,  0.21549799, ...,  0.05561512,\n",
            "          0.20313409,  0.37936872],\n",
            "        [ 0.32101423,  0.35053447,  0.73918694, ...,  0.18025701,\n",
            "          0.26806036, -0.26288447],\n",
            "        [-0.6463917 , -0.0815424 ,  0.53559387, ..., -0.22861466,\n",
            "          0.11069999,  0.06140999],\n",
            "        ...,\n",
            "        [-0.15034632, -0.14570042,  0.63939047, ...,  0.08729231,\n",
            "          0.12402102, -0.3376753 ],\n",
            "        [-0.1367209 , -0.14465354, -0.07546519, ...,  0.43752825,\n",
            "         -0.02247209, -0.01410656],\n",
            "        [ 0.86645526,  0.25425673, -0.34229544, ...,  0.22595912,\n",
            "         -0.55030876, -0.35053018]]], dtype=float32)>, hidden_states=None, attentions=None)\n"
          ],
          "name": "stdout"
        }
      ]
    },
    {
      "cell_type": "code",
      "metadata": {
        "colab": {
          "base_uri": "https://localhost:8080/"
        },
        "id": "zAYmvJ78yHqj",
        "outputId": "543426e3-28b2-4e4d-8820-4fb84629dea2"
      },
      "source": [
        "output[0][0,0,:]"
      ],
      "execution_count": 19,
      "outputs": [
        {
          "output_type": "execute_result",
          "data": {
            "text/plain": [
              "<tf.Tensor: shape=(768,), dtype=float32, numpy=\n",
              "array([-4.59365547e-02,  3.33157182e-03,  2.15497985e-01, -2.23599851e-01,\n",
              "       -1.30577400e-01, -2.82631487e-01,  2.82606781e-01,  3.71641725e-01,\n",
              "       -4.55870070e-02, -3.01241010e-01,  4.28210981e-02, -1.69603467e-01,\n",
              "       -1.24899462e-01,  3.21640968e-01,  7.73478523e-02,  1.48856714e-01,\n",
              "       -2.10174695e-01,  3.08918804e-01,  1.97036892e-01, -1.09222084e-02,\n",
              "        1.70849822e-02, -2.74125189e-01,  5.83199970e-02, -6.75969496e-02,\n",
              "        3.20554823e-02, -8.91286805e-02, -8.00686702e-03, -2.22610757e-02,\n",
              "        1.34012952e-01, -5.89258820e-02,  2.27166973e-02,  8.28490928e-02,\n",
              "        2.07041763e-02, -6.64471835e-02,  1.72127753e-01,  4.17116098e-02,\n",
              "       -1.46486044e-01, -1.16157338e-01, -1.08736612e-01,  1.53998479e-01,\n",
              "       -1.64881974e-01, -8.35725963e-02,  2.11633533e-01, -3.41286436e-02,\n",
              "        4.86753657e-02, -2.60719031e-01, -2.44681835e+00, -3.92898396e-02,\n",
              "       -6.15592189e-02, -9.42967981e-02,  3.76304507e-01, -5.93388230e-02,\n",
              "        7.12529048e-02,  1.14333108e-01,  1.79309040e-01,  3.15678149e-01,\n",
              "       -2.90846705e-01,  2.56820887e-01, -8.36689472e-02,  9.28416252e-02,\n",
              "        2.40896225e-01, -2.97011957e-02, -2.89191723e-01, -8.47472996e-03,\n",
              "       -5.43463565e-02,  1.56548724e-01,  5.73440194e-02,  2.86591172e-01,\n",
              "       -2.60890305e-01,  4.41643596e-01, -1.28645718e-01, -1.88424699e-02,\n",
              "        1.56909555e-01, -2.82799453e-01, -1.09538687e-02, -2.54716668e-02,\n",
              "       -1.36195682e-02,  2.62051344e-01, -1.68269411e-01,  2.06659123e-01,\n",
              "       -1.17717914e-01,  2.85594344e-01,  4.28398550e-01,  1.79141968e-01,\n",
              "        3.49641815e-02,  1.50451630e-01, -3.37956309e-01, -8.57917219e-02,\n",
              "        2.21506789e-01,  2.70935714e-01, -1.06433809e-01, -2.66992658e-01,\n",
              "       -4.56099249e-02,  1.42675221e-01,  4.97654855e-01, -3.99665385e-01,\n",
              "       -2.02171832e-01,  1.53199747e-01,  2.25445598e-01,  1.91932961e-01,\n",
              "        2.29268461e-01, -5.94033021e-03,  1.22909226e-01, -3.69977891e-01,\n",
              "       -1.13943256e-02, -9.92577523e-02, -2.68912464e-02, -3.08333248e-01,\n",
              "        2.75707513e-01, -2.51495576e+00,  3.91227126e-01,  9.99476686e-02,\n",
              "       -2.50000983e-01, -3.60946685e-01, -8.13435018e-02,  4.85796779e-01,\n",
              "        4.14918810e-01,  3.92548069e-02, -1.25951737e-01,  1.81120813e-01,\n",
              "       -2.48316199e-01,  3.36156100e-01,  1.63252447e-02, -1.94876939e-01,\n",
              "        5.35063408e-02,  3.64295006e-01,  4.28165905e-02, -2.32288986e-03,\n",
              "        4.60683517e-02,  1.57989204e-01,  2.94764400e-01,  3.98668408e-01,\n",
              "        1.37227431e-01, -1.71753511e-01, -1.44643232e-01,  3.01142812e-01,\n",
              "        9.35351104e-02, -9.49348137e-02, -1.73941195e-01,  8.44760984e-02,\n",
              "        7.97892734e-03,  2.02332735e-01, -2.80312514e+00,  3.47303808e-01,\n",
              "        3.07361156e-01,  2.55175173e-01, -2.43856817e-01,  5.24140820e-02,\n",
              "       -1.15407139e-01,  1.35949347e-02,  1.98495030e-01, -4.12721708e-02,\n",
              "       -1.07085265e-01,  1.96678534e-01, -2.22188279e-01,  8.61138701e-02,\n",
              "       -2.94069380e-01,  4.97112758e-02,  5.82967997e-02,  2.17528313e-01,\n",
              "        7.18204901e-02,  2.57850438e-03, -4.25356701e-02,  1.56549782e-01,\n",
              "       -9.39572677e-02,  3.39931220e-01,  5.06664693e-01,  2.25139827e-01,\n",
              "        2.10450694e-01, -1.05334520e-01, -2.29082763e-01, -9.81292948e-02,\n",
              "        3.13668698e-01, -3.64680886e-02,  1.48460269e-01,  5.39064370e-02,\n",
              "        3.12756509e-01,  2.37736404e-01, -6.06334545e-02, -1.73758209e-01,\n",
              "       -1.72893912e-01,  7.25729465e-02,  4.04181797e-03,  2.81619392e-02,\n",
              "        7.03442693e-02,  1.70615822e-01,  2.23054439e-01, -8.40558484e-03,\n",
              "        2.21690647e-02,  4.12326396e-01, -2.12451234e-01, -2.62143999e-01,\n",
              "        1.86317936e-01,  1.41767681e-01,  3.08545768e-01,  7.90960789e-02,\n",
              "        2.20114335e-01, -2.40583703e-01,  1.40466839e-01,  1.36979356e-01,\n",
              "       -1.60949543e-01, -5.98257706e-02,  1.49361745e-01,  9.37834233e-02,\n",
              "        1.17082335e-02,  3.45881367e+00,  8.37867409e-02, -2.91211419e-02,\n",
              "        8.18927288e-02,  1.92281231e-01, -2.26330712e-01, -5.20970449e-02,\n",
              "        2.13159434e-02, -3.88636664e-02,  7.70136267e-02,  7.64330626e-02,\n",
              "        4.00744766e-01, -2.16419399e-01, -1.06411755e-01, -6.76832870e-02,\n",
              "        1.81268737e-01,  2.08286524e-01, -8.52510557e-02,  2.04925865e-01,\n",
              "       -1.34150952e-01,  2.96900094e-01,  4.40133177e-02,  3.34373042e-02,\n",
              "        2.57499188e-01, -1.22569168e+00, -1.37084454e-01, -2.73201883e-01,\n",
              "        2.11557969e-02,  3.47666949e-01, -2.68414497e-01,  2.17320129e-01,\n",
              "       -2.95910146e-02, -1.29619122e-01,  6.77854046e-02,  8.72256085e-02,\n",
              "       -6.46454692e-02,  1.60321623e-01,  1.92121968e-01,  3.57759595e-01,\n",
              "       -1.74076125e-01,  2.94974208e-01, -2.12123767e-02, -5.96847013e-03,\n",
              "        2.16004610e-01, -2.54799221e-02,  1.75674096e-01,  3.41483504e-02,\n",
              "       -6.92207962e-02, -2.11314902e-01,  8.13532770e-02, -3.43771353e-02,\n",
              "        6.65489286e-02,  9.79804695e-02, -2.45157912e-01,  4.77568619e-02,\n",
              "       -3.51333410e-01, -5.15946783e-02,  2.65433818e-01,  2.09688753e-01,\n",
              "       -5.20083368e-01,  2.11431906e-02,  7.11433291e-02, -3.07781190e-01,\n",
              "        2.78149009e-01, -1.48411274e-01, -2.92804956e-01,  4.57571819e-02,\n",
              "       -4.65274692e-01, -3.28276253e+00,  2.29918361e-02, -1.20312683e-01,\n",
              "        3.28936964e-01,  9.91612375e-02,  1.43305510e-01,  3.96017283e-02,\n",
              "        1.33499444e-01,  2.23150626e-01, -4.00576234e-01,  1.39432549e-01,\n",
              "        1.31910712e-01,  5.50430268e-03,  2.30484992e-01, -3.03518742e-01,\n",
              "        2.47902080e-01,  9.22378153e-02, -1.37853861e-01, -4.72298190e-02,\n",
              "       -1.21320963e-01,  1.53562710e-01,  2.76249200e-01, -2.00673744e-01,\n",
              "        4.47314709e-01, -1.47304624e-01, -1.96712036e-02, -8.01088661e-02,\n",
              "       -9.56028104e-02, -2.35088617e-02, -6.63649812e-02, -4.26900350e-02,\n",
              "       -1.76336393e-01,  2.67487735e-01, -1.10136107e-01, -3.47921580e-01,\n",
              "       -2.83101702e+00, -9.99492854e-02,  7.64559880e-02, -1.06288627e-01,\n",
              "        2.04494335e-02,  7.40720285e-03,  2.58286417e-01, -7.32571855e-02,\n",
              "       -2.16482967e-01, -1.61300778e-01,  1.38580114e-01,  9.79197770e-03,\n",
              "        1.56751454e-01, -5.49116880e-02, -9.06086713e-03,  1.64683834e-01,\n",
              "        3.36770356e-01, -1.57969147e-01,  1.40036613e-01,  2.25353345e-01,\n",
              "       -9.40839872e-02,  1.25614330e-01,  7.90569633e-02, -2.53675729e-01,\n",
              "        1.66942090e-01,  3.29358816e-01, -1.31962210e-01, -9.69970375e-02,\n",
              "       -2.44410679e-01,  8.41203034e-02,  5.53719699e-02, -2.89097577e-01,\n",
              "       -4.46055410e-03, -7.84953833e-02, -4.19558018e-01, -1.71529934e-01,\n",
              "        9.14909542e-02,  2.84635872e-02,  2.19042554e-01,  1.03203118e-01,\n",
              "       -1.21958956e-01,  4.47768390e-01,  1.80709988e-01,  4.44434285e-02,\n",
              "        5.24492383e-01, -1.83370337e-02,  8.16240255e-03, -2.01928109e-01,\n",
              "       -1.89894468e-01,  2.42391735e-01, -1.81228384e-01,  6.09893948e-02,\n",
              "        1.22174227e+00, -2.82978833e-01,  2.46781051e-01, -8.83223265e-02,\n",
              "        1.47714868e-01,  2.44941518e-01,  1.27307624e-01,  3.69711593e-02,\n",
              "        5.31952739e-01, -3.46765406e-02,  7.85889626e-02, -2.23211378e-01,\n",
              "       -1.27970688e-02, -3.14359903e-01,  7.61142373e-02, -4.30619180e-01,\n",
              "        2.58678254e-02,  1.04223214e-01, -1.26018181e-01,  1.43945307e-01,\n",
              "       -1.14692345e-01, -9.40107107e-01, -4.05717909e-01,  1.78884387e-01,\n",
              "       -2.64419943e-01,  1.99715234e-02, -3.50603312e-02,  6.82051927e-02,\n",
              "       -2.56419480e-01, -4.70334440e-02, -1.52917966e-01,  2.62265295e-01,\n",
              "       -2.53536582e-01, -1.79032013e-01, -1.58983380e-01, -6.94081932e-02,\n",
              "       -3.84890646e-01,  1.05582088e-01, -1.53910071e-01,  1.55345052e-01,\n",
              "       -6.69787675e-02,  1.06144533e-01,  1.64025903e-01, -2.40483657e-02,\n",
              "        3.43433648e-01, -7.12920368e-01,  7.27492645e-02,  1.51667930e-02,\n",
              "        1.12659119e-01, -7.43229836e-02,  1.90016329e-02, -9.10545588e-02,\n",
              "       -8.59970152e-02, -1.31069839e-01, -3.40047330e-01,  3.21918100e-01,\n",
              "       -2.16969013e-01,  8.89000967e-02, -1.52004927e-01, -1.81519926e-01,\n",
              "       -2.63865203e-01,  8.11599493e-02,  8.81181419e-01, -3.28294516e-01,\n",
              "       -4.68192808e-02,  1.61856830e-01, -8.20993334e-02,  1.23242229e-01,\n",
              "        2.89604992e-01,  7.87543803e-02, -1.21005550e-01, -1.58694219e-02,\n",
              "       -5.57704687e-01, -6.21805266e-02, -3.82667109e-02, -2.50744879e-01,\n",
              "       -2.50382751e-01,  4.57648747e-02,  1.32850841e-01, -1.33856377e-02,\n",
              "       -3.66498768e-01, -4.29318994e-01,  2.64149494e-02, -2.92553186e-01,\n",
              "       -1.21069938e-01, -1.87044665e-02,  2.22971350e-01,  1.50836810e-01,\n",
              "        2.12765530e-01,  1.24297932e-01, -5.01196384e-02,  4.13787514e-01,\n",
              "       -6.29064739e-02,  3.44086438e-01, -8.15785155e-02, -3.90048735e-02,\n",
              "       -6.06675409e-02,  2.32174993e-01, -8.24298114e-02, -3.78023058e-01,\n",
              "        1.43685713e-01, -3.71107608e-01,  3.10993314e-01,  3.92604232e-01,\n",
              "        1.85674429e-01, -1.14037422e-02, -1.84998959e-01, -1.25229321e-02,\n",
              "        2.39788353e-01, -1.81248114e-02, -1.33627856e+00,  3.46431345e-01,\n",
              "        1.37870938e-01,  1.86313748e-01,  8.67805481e-02, -3.95170674e-02,\n",
              "       -6.16994947e-02,  1.60252959e-01,  1.11230453e-02,  2.47695222e-01,\n",
              "        1.20896585e-02, -8.45878124e-02, -1.66941211e-01,  2.85856694e-01,\n",
              "        7.04848394e-02, -9.15170461e-03,  4.82286252e-02, -1.88948363e-02,\n",
              "       -8.45313147e-02, -6.25482053e-02, -7.58984499e-03,  3.52882087e-01,\n",
              "        1.66476339e-01, -1.76142052e-01,  1.50648346e-02, -1.60035610e-01,\n",
              "        1.42490208e-01,  1.84405938e-01, -8.42415318e-02,  8.89302641e-02,\n",
              "        6.95541948e-02, -3.11173350e-01, -6.22502327e-01, -4.02240515e-01,\n",
              "        2.70236790e-01, -4.21840549e-02,  3.65466103e-02,  5.45497835e-02,\n",
              "        1.33585438e-01,  2.11838916e-01, -4.21818614e-01,  3.20130736e-01,\n",
              "        1.14857346e-01, -8.71841162e-02,  5.03238440e-01, -5.84234484e-02,\n",
              "       -1.81087211e-01,  3.38332653e-01,  9.30838734e-02, -3.98319036e-01,\n",
              "        4.07827832e-02, -1.15694560e-01,  4.71759774e-02, -1.93890274e-01,\n",
              "       -1.40587121e-01, -1.88272446e-01, -6.24186397e-02,  6.53172061e-02,\n",
              "       -2.09149837e-01,  1.25336409e-01,  5.07346153e-01, -3.08936059e-01,\n",
              "       -2.24761590e-01,  6.85022622e-02, -3.11827809e-01, -3.86444360e-01,\n",
              "       -3.02079141e-01, -2.41335303e-01,  1.93980917e-01, -1.35790050e-01,\n",
              "        5.19108295e-01, -1.15314871e-03, -2.10576594e-01,  1.50796622e-01,\n",
              "       -4.16035354e-01,  1.46847814e-01,  5.61042465e-02,  2.55438328e-01,\n",
              "        2.65736461e-01, -3.97465587e-01,  1.26809925e-01, -4.64387178e-01,\n",
              "       -4.95892942e-01,  3.25162500e-01, -1.39287397e-01,  2.08810255e-01,\n",
              "       -1.07282862e-01,  7.36618340e-02,  3.04171667e-02,  2.06422918e-02,\n",
              "       -1.37180761e-01, -3.31017315e-01,  1.78863227e-01,  2.06354901e-01,\n",
              "       -4.47756946e-02, -7.33529031e-03, -1.19873412e-01, -6.49267137e-02,\n",
              "       -1.26068428e-01, -1.39099896e-01, -1.44738629e-01,  5.33656478e-01,\n",
              "        3.80167007e-01,  1.10307932e-01,  1.19999468e-01,  9.23109651e-02,\n",
              "        1.90517947e-01,  1.36353165e-01, -5.03624201e-01, -6.89178854e-02,\n",
              "       -1.31443664e-01, -4.78133783e-02, -5.82535714e-02, -3.89091522e-02,\n",
              "       -7.11605847e-02, -2.09180355e-01, -2.66573012e-01, -2.47308269e-01,\n",
              "        1.86276853e+00,  4.72798198e-01,  9.32345167e-02,  2.49132030e-02,\n",
              "        2.84644783e-01,  3.85288708e-02, -1.31358758e-01,  1.33666307e-01,\n",
              "       -1.74160358e-02,  3.47179115e-01, -2.18230560e-01,  1.80230111e-01,\n",
              "       -1.67039141e-01,  1.41119584e-01,  5.70801497e-01,  1.61844790e-01,\n",
              "        7.67577291e-02, -1.73275694e-01, -5.25257409e-01, -7.56198168e-03,\n",
              "       -1.09963626e-01,  2.90816188e-01,  3.43714714e-01,  3.80213372e-02,\n",
              "        1.36270195e-01,  2.56443888e-01,  1.26877129e-01, -1.31224364e-01,\n",
              "       -1.57334089e-01,  1.89668447e-01, -1.57032534e-01,  1.82157114e-01,\n",
              "        1.33103371e-01,  3.53006780e-01, -2.62547910e-01,  4.36801091e-02,\n",
              "        1.39839619e-01, -4.48460579e-01, -3.99267852e-01, -3.47928591e-02,\n",
              "       -3.95931862e-02, -1.71276882e-01,  3.11470181e-01,  7.54902735e-02,\n",
              "       -3.51059735e-01,  3.37490857e-01, -2.37753004e-01, -1.83527738e-01,\n",
              "        2.64352471e-01,  3.69224727e-01, -4.91236299e-02,  7.91690871e-02,\n",
              "       -2.05090895e-01,  4.53058362e-01, -1.21710688e-01, -7.04295188e-02,\n",
              "        1.01430982e-01, -1.16265759e-01,  8.38189721e-02,  3.04202735e-01,\n",
              "       -1.01073742e-01,  2.90632248e-01,  2.64940739e-01,  3.87769565e-02,\n",
              "        2.50698417e-01,  3.03383917e-02, -2.72458136e-01,  1.41799241e-01,\n",
              "        2.09584489e-01, -3.91022921e-01, -6.81114793e-02,  5.19069433e-01,\n",
              "        1.65394723e-01, -3.13497335e-02,  1.44567281e-01,  3.01313512e-02,\n",
              "        2.95801342e-01, -1.48779713e-02, -1.61210716e-01, -2.73439074e+00,\n",
              "        5.25010899e-02, -4.27102260e-02,  1.08346865e-01,  3.49035382e-01,\n",
              "        1.23215571e-01,  2.14973077e-01,  9.94655192e-02,  2.71232665e-01,\n",
              "        6.27370551e-02,  8.21764693e-02,  2.59237707e-01,  3.67598772e-01,\n",
              "        1.07255474e-01,  2.43183732e-01, -6.39646053e-02,  1.74205542e-01,\n",
              "       -2.50376701e-01, -6.57322556e-02, -8.67400542e-02, -9.21027660e-02,\n",
              "        1.89854100e-01, -4.28345986e-02, -2.77042329e-01, -2.32848093e-01,\n",
              "        2.03266501e-01, -3.22750509e-01, -1.35674059e-01,  1.36093915e-01,\n",
              "        3.80954370e-02, -1.59215748e-01,  3.27423155e-01, -2.88462341e-01,\n",
              "       -2.54820082e-02,  9.89980623e-02, -2.13088155e-01, -2.12730631e-01,\n",
              "        9.34005529e-03,  1.71351075e-01,  1.49917901e-01, -4.20760661e-02,\n",
              "        4.94860858e-01, -5.54463752e-02,  1.75692469e-01,  1.35696158e-01,\n",
              "       -6.14060462e-03,  4.11857784e-01, -1.42663360e-01,  2.48299375e-01,\n",
              "       -1.00202128e-01,  5.72140589e-02,  1.89062841e-02,  2.52823293e-01,\n",
              "       -4.61376272e-03,  1.73974797e-01,  8.62779245e-02, -6.98068887e-02,\n",
              "        1.73417032e-02,  7.06292093e-02, -3.98715734e-01,  1.38503850e-01,\n",
              "        5.29055744e-02,  1.91487491e-01,  9.39584896e-02,  1.37939557e-01,\n",
              "       -1.69013396e-01, -2.20242739e-02, -1.98570155e-02, -8.50817710e-02,\n",
              "       -4.85297367e-02, -3.59681189e-01, -1.59452967e-02,  1.87095612e-01,\n",
              "        6.41376227e-02,  7.76603222e-02, -2.38613978e-01,  5.11429965e-01,\n",
              "        3.12767565e-01, -8.88072401e-02,  2.54059017e-01, -1.30998164e-01,\n",
              "       -8.03426355e-02,  1.08706400e-01, -1.83103532e-02,  1.59089327e-01,\n",
              "       -7.35365820e+00,  6.06098808e-02, -1.71292007e-01, -1.48284346e-01,\n",
              "       -2.73910701e-01, -4.97050047e-01,  1.18165299e-01, -3.97391826e-01,\n",
              "        7.06884116e-02, -2.98455983e-01,  2.66028166e-01,  6.39273226e-02,\n",
              "       -2.11008653e-01,  5.56151234e-02,  2.03134090e-01,  3.79368722e-01],\n",
              "      dtype=float32)>"
            ]
          },
          "metadata": {
            "tags": []
          },
          "execution_count": 19
        }
      ]
    },
    {
      "cell_type": "code",
      "metadata": {
        "colab": {
          "base_uri": "https://localhost:8080/"
        },
        "id": "5XEwgKtHyPH1",
        "outputId": "accf1ef9-d1b0-4908-f5d0-2075665e8a50"
      },
      "source": [
        "# For more hidden layers for feature extraction ->> use DistilBertConfig\n",
        "\n",
        "from transformers import DistilBertConfig\n",
        "\n",
        "conf=DistilBertConfig.from_pretrained(distilbert,output_hidden_state=True)\n",
        "\n",
        "e = db.encode(\"Hello, my dog is cute\")\n",
        "input = tf.constant(e)[None, :]  # Batch size 1 \n",
        "model = TFDistilBertModel.from_pretrained(distilbert, config=conf)\n",
        "print(model.config)"
      ],
      "execution_count": 23,
      "outputs": [
        {
          "output_type": "stream",
          "text": [
            "Some layers from the model checkpoint at distilbert-base-uncased were not used when initializing TFDistilBertModel: ['vocab_layer_norm', 'vocab_transform', 'vocab_projector', 'activation_13']\n",
            "- This IS expected if you are initializing TFDistilBertModel from the checkpoint of a model trained on another task or with another architecture (e.g. initializing a BertForSequenceClassification model from a BertForPreTraining model).\n",
            "- This IS NOT expected if you are initializing TFDistilBertModel from the checkpoint of a model that you expect to be exactly identical (initializing a BertForSequenceClassification model from a BertForSequenceClassification model).\n",
            "All the layers of TFDistilBertModel were initialized from the model checkpoint at distilbert-base-uncased.\n",
            "If your task is similar to the task the model of the checkpoint was trained on, you can already use TFDistilBertModel for predictions without further training.\n"
          ],
          "name": "stderr"
        },
        {
          "output_type": "stream",
          "text": [
            "DistilBertConfig {\n",
            "  \"_name_or_path\": \"distilbert-base-uncased\",\n",
            "  \"activation\": \"gelu\",\n",
            "  \"architectures\": [\n",
            "    \"DistilBertForMaskedLM\"\n",
            "  ],\n",
            "  \"attention_dropout\": 0.1,\n",
            "  \"dim\": 768,\n",
            "  \"dropout\": 0.1,\n",
            "  \"hidden_dim\": 3072,\n",
            "  \"initializer_range\": 0.02,\n",
            "  \"max_position_embeddings\": 512,\n",
            "  \"model_type\": \"distilbert\",\n",
            "  \"n_heads\": 12,\n",
            "  \"n_layers\": 6,\n",
            "  \"pad_token_id\": 0,\n",
            "  \"qa_dropout\": 0.1,\n",
            "  \"seq_classif_dropout\": 0.2,\n",
            "  \"sinusoidal_pos_embds\": false,\n",
            "  \"tie_weights_\": true,\n",
            "  \"transformers_version\": \"4.6.0\",\n",
            "  \"vocab_size\": 30522\n",
            "}\n",
            "\n"
          ],
          "name": "stdout"
        }
      ]
    },
    {
      "cell_type": "code",
      "metadata": {
        "colab": {
          "base_uri": "https://localhost:8080/"
        },
        "id": "5qFqFnwczMJO",
        "outputId": "3100e57e-3397-4313-cd80-b811a78917cc"
      },
      "source": [
        "out=model(input)\n",
        "print(len(out))"
      ],
      "execution_count": 24,
      "outputs": [
        {
          "output_type": "stream",
          "text": [
            "1\n"
          ],
          "name": "stdout"
        }
      ]
    },
    {
      "cell_type": "code",
      "metadata": {
        "id": "w4HK5nEVzdyc"
      },
      "source": [
        ""
      ],
      "execution_count": null,
      "outputs": []
    }
  ]
}