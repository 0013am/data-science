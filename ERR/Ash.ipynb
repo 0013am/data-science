{
 "cells": [
  {
   "cell_type": "code",
   "execution_count": 1,
   "metadata": {},
   "outputs": [],
   "source": [
    "import pandas as pd\n",
    "import numpy as np\n",
    "import matplotlib.pyplot as plt\n",
    "from keras_preprocessing import image\n",
    "import cv2\n",
    "import os\n",
    "%matplotlib inline"
   ]
  },
  {
   "cell_type": "code",
   "execution_count": 2,
   "metadata": {},
   "outputs": [
    {
     "name": "stdout",
     "output_type": "stream",
     "text": [
      "(304, 2)\n"
     ]
    },
    {
     "data": {
      "text/html": [
       "<div>\n",
       "<style scoped>\n",
       "    .dataframe tbody tr th:only-of-type {\n",
       "        vertical-align: middle;\n",
       "    }\n",
       "\n",
       "    .dataframe tbody tr th {\n",
       "        vertical-align: top;\n",
       "    }\n",
       "\n",
       "    .dataframe thead th {\n",
       "        text-align: right;\n",
       "    }\n",
       "</style>\n",
       "<table border=\"1\" class=\"dataframe\">\n",
       "  <thead>\n",
       "    <tr style=\"text-align: right;\">\n",
       "      <th></th>\n",
       "      <th>ImageId</th>\n",
       "      <th>NameOfPokemon</th>\n",
       "    </tr>\n",
       "  </thead>\n",
       "  <tbody>\n",
       "    <tr>\n",
       "      <th>0</th>\n",
       "      <td>296.jpg</td>\n",
       "      <td>Pikachu</td>\n",
       "    </tr>\n",
       "    <tr>\n",
       "      <th>1</th>\n",
       "      <td>297.jpg</td>\n",
       "      <td>Pikachu</td>\n",
       "    </tr>\n",
       "    <tr>\n",
       "      <th>2</th>\n",
       "      <td>298.jpg</td>\n",
       "      <td>Pikachu</td>\n",
       "    </tr>\n",
       "    <tr>\n",
       "      <th>3</th>\n",
       "      <td>299.jpg</td>\n",
       "      <td>Pikachu</td>\n",
       "    </tr>\n",
       "    <tr>\n",
       "      <th>4</th>\n",
       "      <td>300.jpg</td>\n",
       "      <td>Pikachu</td>\n",
       "    </tr>\n",
       "  </tbody>\n",
       "</table>\n",
       "</div>"
      ],
      "text/plain": [
       "   ImageId NameOfPokemon\n",
       "0  296.jpg       Pikachu\n",
       "1  297.jpg       Pikachu\n",
       "2  298.jpg       Pikachu\n",
       "3  299.jpg       Pikachu\n",
       "4  300.jpg       Pikachu"
      ]
     },
     "execution_count": 2,
     "metadata": {},
     "output_type": "execute_result"
    }
   ],
   "source": [
    "df=pd.read_csv('train.csv')\n",
    "print(df.shape)\n",
    "df.head()"
   ]
  },
  {
   "cell_type": "code",
   "execution_count": 3,
   "metadata": {},
   "outputs": [],
   "source": [
    "imd=df.iloc[:,0]\n",
    "lbl=df.iloc[:,1]"
   ]
  },
  {
   "cell_type": "code",
   "execution_count": 6,
   "metadata": {},
   "outputs": [],
   "source": [
    "data=[]\n",
    "for idd in imd:\n",
    "    img=image.load_img('Images/'+idd,target_size=(16,16))\n",
    "    img_arr    =image.img_to_array(img)\n",
    "    data.append(img_arr)\n"
   ]
  },
  {
   "cell_type": "code",
   "execution_count": 7,
   "metadata": {},
   "outputs": [
    {
     "data": {
      "text/plain": [
       "304"
      ]
     },
     "execution_count": 7,
     "metadata": {},
     "output_type": "execute_result"
    }
   ],
   "source": [
    "len(data)"
   ]
  },
  {
   "cell_type": "code",
   "execution_count": 8,
   "metadata": {},
   "outputs": [],
   "source": [
    "data=np.array(data,dtype='float32')/255.0\n",
    "lbl=np.array(lbl)"
   ]
  },
  {
   "cell_type": "code",
   "execution_count": 9,
   "metadata": {},
   "outputs": [
    {
     "data": {
      "text/plain": [
       "((304, 16, 16, 3), (304,))"
      ]
     },
     "execution_count": 9,
     "metadata": {},
     "output_type": "execute_result"
    }
   ],
   "source": [
    "data.shape,lbl.shape"
   ]
  },
  {
   "cell_type": "code",
   "execution_count": 10,
   "metadata": {},
   "outputs": [],
   "source": [
    "from sklearn.utils import shuffle"
   ]
  },
  {
   "cell_type": "code",
   "execution_count": 11,
   "metadata": {},
   "outputs": [],
   "source": [
    "data,lbl=shuffle(data,lbl,random_state=13)"
   ]
  },
  {
   "cell_type": "code",
   "execution_count": 12,
   "metadata": {},
   "outputs": [],
   "source": [
    "data=data.reshape(data.shape[0],-1)"
   ]
  },
  {
   "cell_type": "code",
   "execution_count": 13,
   "metadata": {},
   "outputs": [
    {
     "data": {
      "text/plain": [
       "(304, 768)"
      ]
     },
     "execution_count": 13,
     "metadata": {},
     "output_type": "execute_result"
    }
   ],
   "source": [
    "data.shape"
   ]
  },
  {
   "cell_type": "code",
   "execution_count": 14,
   "metadata": {},
   "outputs": [],
   "source": [
    "ld={'Pikachu':0,'Bulbasaur':1,'Charmander':2}\n",
    "for i in range(lbl.shape[0]):\n",
    "    lbl[i]=ld[lbl[i]]"
   ]
  },
  {
   "cell_type": "code",
   "execution_count": 15,
   "metadata": {},
   "outputs": [],
   "source": [
    "lbl=lbl.astype('int')"
   ]
  },
  {
   "cell_type": "code",
   "execution_count": 16,
   "metadata": {},
   "outputs": [],
   "source": [
    "from sklearn.svm import SVC"
   ]
  },
  {
   "cell_type": "code",
   "execution_count": 19,
   "metadata": {},
   "outputs": [],
   "source": [
    "from sklearn.model_selection import GridSearchCV\n",
    "param=[\n",
    "  {'C':[1,10,100,1000],'kernel':['linear']},\n",
    "  {'C':[1,10,100,1000],'gamma':[0.001, 0.0001],'kernel':['rbf']},\n",
    " ]"
   ]
  },
  {
   "cell_type": "code",
   "execution_count": 20,
   "metadata": {},
   "outputs": [
    {
     "name": "stdout",
     "output_type": "stream",
     "text": [
      "Fitting 5 folds for each of 12 candidates, totalling 60 fits\n",
      "[CV 1/5] END .............................C=1, kernel=linear; total time=   0.0s\n",
      "[CV 2/5] END .............................C=1, kernel=linear; total time=   0.0s\n",
      "[CV 3/5] END .............................C=1, kernel=linear; total time=   0.0s\n",
      "[CV 4/5] END .............................C=1, kernel=linear; total time=   0.0s\n",
      "[CV 5/5] END .............................C=1, kernel=linear; total time=   0.0s\n",
      "[CV 1/5] END ............................C=10, kernel=linear; total time=   0.0s\n",
      "[CV 2/5] END ............................C=10, kernel=linear; total time=   0.0s\n",
      "[CV 3/5] END ............................C=10, kernel=linear; total time=   0.0s\n",
      "[CV 4/5] END ............................C=10, kernel=linear; total time=   0.0s\n",
      "[CV 5/5] END ............................C=10, kernel=linear; total time=   0.0s\n",
      "[CV 1/5] END ...........................C=100, kernel=linear; total time=   0.0s\n",
      "[CV 2/5] END ...........................C=100, kernel=linear; total time=   0.0s\n",
      "[CV 3/5] END ...........................C=100, kernel=linear; total time=   0.0s\n",
      "[CV 4/5] END ...........................C=100, kernel=linear; total time=   0.0s\n",
      "[CV 5/5] END ...........................C=100, kernel=linear; total time=   0.0s\n",
      "[CV 1/5] END ..........................C=1000, kernel=linear; total time=   0.0s\n",
      "[CV 2/5] END ..........................C=1000, kernel=linear; total time=   0.0s\n",
      "[CV 3/5] END ..........................C=1000, kernel=linear; total time=   0.0s\n",
      "[CV 4/5] END ..........................C=1000, kernel=linear; total time=   0.0s\n",
      "[CV 5/5] END ..........................C=1000, kernel=linear; total time=   0.0s\n",
      "[CV 1/5] END ...................C=1, gamma=0.001, kernel=rbf; total time=   0.0s\n",
      "[CV 2/5] END ...................C=1, gamma=0.001, kernel=rbf; total time=   0.0s\n",
      "[CV 3/5] END ...................C=1, gamma=0.001, kernel=rbf; total time=   0.0s\n",
      "[CV 4/5] END ...................C=1, gamma=0.001, kernel=rbf; total time=   0.0s\n",
      "[CV 5/5] END ...................C=1, gamma=0.001, kernel=rbf; total time=   0.0s\n",
      "[CV 1/5] END ..................C=1, gamma=0.0001, kernel=rbf; total time=   0.0s\n",
      "[CV 2/5] END ..................C=1, gamma=0.0001, kernel=rbf; total time=   0.0s\n",
      "[CV 3/5] END ..................C=1, gamma=0.0001, kernel=rbf; total time=   0.0s\n",
      "[CV 4/5] END ..................C=1, gamma=0.0001, kernel=rbf; total time=   0.0s\n",
      "[CV 5/5] END ..................C=1, gamma=0.0001, kernel=rbf; total time=   0.0s\n",
      "[CV 1/5] END ..................C=10, gamma=0.001, kernel=rbf; total time=   0.0s\n",
      "[CV 2/5] END ..................C=10, gamma=0.001, kernel=rbf; total time=   0.0s\n",
      "[CV 3/5] END ..................C=10, gamma=0.001, kernel=rbf; total time=   0.0s\n",
      "[CV 4/5] END ..................C=10, gamma=0.001, kernel=rbf; total time=   0.0s\n",
      "[CV 5/5] END ..................C=10, gamma=0.001, kernel=rbf; total time=   0.0s\n",
      "[CV 1/5] END .................C=10, gamma=0.0001, kernel=rbf; total time=   0.0s\n",
      "[CV 2/5] END .................C=10, gamma=0.0001, kernel=rbf; total time=   0.0s\n",
      "[CV 3/5] END .................C=10, gamma=0.0001, kernel=rbf; total time=   0.0s\n",
      "[CV 4/5] END .................C=10, gamma=0.0001, kernel=rbf; total time=   0.0s\n",
      "[CV 5/5] END .................C=10, gamma=0.0001, kernel=rbf; total time=   0.0s\n",
      "[CV 1/5] END .................C=100, gamma=0.001, kernel=rbf; total time=   0.0s\n",
      "[CV 2/5] END .................C=100, gamma=0.001, kernel=rbf; total time=   0.0s\n",
      "[CV 3/5] END .................C=100, gamma=0.001, kernel=rbf; total time=   0.0s\n",
      "[CV 4/5] END .................C=100, gamma=0.001, kernel=rbf; total time=   0.0s\n",
      "[CV 5/5] END .................C=100, gamma=0.001, kernel=rbf; total time=   0.0s\n",
      "[CV 1/5] END ................C=100, gamma=0.0001, kernel=rbf; total time=   0.0s\n",
      "[CV 2/5] END ................C=100, gamma=0.0001, kernel=rbf; total time=   0.0s\n",
      "[CV 3/5] END ................C=100, gamma=0.0001, kernel=rbf; total time=   0.0s\n",
      "[CV 4/5] END ................C=100, gamma=0.0001, kernel=rbf; total time=   0.0s\n",
      "[CV 5/5] END ................C=100, gamma=0.0001, kernel=rbf; total time=   0.0s\n",
      "[CV 1/5] END ................C=1000, gamma=0.001, kernel=rbf; total time=   0.0s\n",
      "[CV 2/5] END ................C=1000, gamma=0.001, kernel=rbf; total time=   0.0s\n",
      "[CV 3/5] END ................C=1000, gamma=0.001, kernel=rbf; total time=   0.0s\n",
      "[CV 4/5] END ................C=1000, gamma=0.001, kernel=rbf; total time=   0.0s\n",
      "[CV 5/5] END ................C=1000, gamma=0.001, kernel=rbf; total time=   0.0s\n",
      "[CV 1/5] END ...............C=1000, gamma=0.0001, kernel=rbf; total time=   0.0s\n",
      "[CV 2/5] END ...............C=1000, gamma=0.0001, kernel=rbf; total time=   0.0s\n",
      "[CV 3/5] END ...............C=1000, gamma=0.0001, kernel=rbf; total time=   0.0s\n",
      "[CV 4/5] END ...............C=1000, gamma=0.0001, kernel=rbf; total time=   0.0s\n",
      "[CV 5/5] END ...............C=1000, gamma=0.0001, kernel=rbf; total time=   0.0s\n"
     ]
    },
    {
     "data": {
      "text/plain": [
       "GridSearchCV(estimator=SVC(),\n",
       "             param_grid=[{'C': [1, 10, 100, 1000], 'kernel': ['linear']},\n",
       "                         {'C': [1, 10, 100, 1000], 'gamma': [0.001, 0.0001],\n",
       "                          'kernel': ['rbf']}],\n",
       "             verbose=3)"
      ]
     },
     "execution_count": 20,
     "metadata": {},
     "output_type": "execute_result"
    }
   ],
   "source": [
    "clf=GridSearchCV(SVC(), param, refit = True, verbose = 3)\n",
    "clf.fit(data,lbl)"
   ]
  },
  {
   "cell_type": "code",
   "execution_count": null,
   "metadata": {},
   "outputs": [],
   "source": []
  },
  {
   "cell_type": "code",
   "execution_count": null,
   "metadata": {},
   "outputs": [],
   "source": []
  },
  {
   "cell_type": "code",
   "execution_count": 21,
   "metadata": {},
   "outputs": [
    {
     "data": {
      "text/plain": [
       "0.9835526315789473"
      ]
     },
     "execution_count": 21,
     "metadata": {},
     "output_type": "execute_result"
    }
   ],
   "source": [
    "clf.score(data,lbl)"
   ]
  },
  {
   "cell_type": "code",
   "execution_count": 22,
   "metadata": {},
   "outputs": [
    {
     "data": {
      "text/plain": [
       "({'C': 100, 'gamma': 0.0001, 'kernel': 'rbf'}, SVC(C=100, gamma=0.0001))"
      ]
     },
     "execution_count": 22,
     "metadata": {},
     "output_type": "execute_result"
    }
   ],
   "source": [
    "clf.best_params_,clf.best_estimator_"
   ]
  },
  {
   "cell_type": "code",
   "execution_count": 24,
   "metadata": {},
   "outputs": [],
   "source": [
    "clf=SVC(C=100,gamma=0.0001,kernel='rbf').fit(data,lbl)"
   ]
  },
  {
   "cell_type": "code",
   "execution_count": 25,
   "metadata": {},
   "outputs": [],
   "source": [
    "dt=pd.read_csv('test.csv').values\n",
    "ttt=dt[:,0]"
   ]
  },
  {
   "cell_type": "code",
   "execution_count": 26,
   "metadata": {},
   "outputs": [],
   "source": [
    "tt=[]\n",
    "for idd in ttt:\n",
    "    img=image.load_img('Images/'+idd,target_size=(16,16))\n",
    "    img_arr=image.img_to_array(img)\n",
    "    tt.append(img_arr)"
   ]
  },
  {
   "cell_type": "code",
   "execution_count": 27,
   "metadata": {},
   "outputs": [],
   "source": [
    "tt=np.array(tt,dtype='float32')/255.0\n",
    "tt=tt.reshape(tt.shape[0],-1)"
   ]
  },
  {
   "cell_type": "code",
   "execution_count": 28,
   "metadata": {},
   "outputs": [
    {
     "data": {
      "text/plain": [
       "(123, 768)"
      ]
     },
     "execution_count": 28,
     "metadata": {},
     "output_type": "execute_result"
    }
   ],
   "source": [
    "tt.shape"
   ]
  },
  {
   "cell_type": "code",
   "execution_count": 29,
   "metadata": {},
   "outputs": [],
   "source": [
    "yp=clf.predict(tt)"
   ]
  },
  {
   "cell_type": "code",
   "execution_count": 30,
   "metadata": {},
   "outputs": [
    {
     "data": {
      "text/plain": [
       "(123,)"
      ]
     },
     "execution_count": 30,
     "metadata": {},
     "output_type": "execute_result"
    }
   ],
   "source": [
    "yp.shape"
   ]
  },
  {
   "cell_type": "code",
   "execution_count": 31,
   "metadata": {},
   "outputs": [
    {
     "data": {
      "text/plain": [
       "['Charmander',\n",
       " 'Bulbasaur',\n",
       " 'Charmander',\n",
       " 'Bulbasaur',\n",
       " 'Pikachu',\n",
       " 'Bulbasaur',\n",
       " 'Bulbasaur',\n",
       " 'Charmander',\n",
       " 'Charmander',\n",
       " 'Bulbasaur',\n",
       " 'Charmander',\n",
       " 'Charmander',\n",
       " 'Charmander',\n",
       " 'Charmander',\n",
       " 'Bulbasaur',\n",
       " 'Charmander',\n",
       " 'Bulbasaur',\n",
       " 'Bulbasaur',\n",
       " 'Pikachu',\n",
       " 'Bulbasaur',\n",
       " 'Pikachu',\n",
       " 'Charmander',\n",
       " 'Bulbasaur',\n",
       " 'Charmander',\n",
       " 'Charmander',\n",
       " 'Bulbasaur',\n",
       " 'Charmander',\n",
       " 'Charmander',\n",
       " 'Pikachu',\n",
       " 'Pikachu',\n",
       " 'Pikachu',\n",
       " 'Pikachu',\n",
       " 'Bulbasaur',\n",
       " 'Charmander',\n",
       " 'Pikachu',\n",
       " 'Charmander',\n",
       " 'Charmander',\n",
       " 'Charmander',\n",
       " 'Bulbasaur',\n",
       " 'Charmander',\n",
       " 'Charmander',\n",
       " 'Bulbasaur',\n",
       " 'Pikachu',\n",
       " 'Bulbasaur',\n",
       " 'Bulbasaur',\n",
       " 'Charmander',\n",
       " 'Bulbasaur',\n",
       " 'Charmander',\n",
       " 'Bulbasaur',\n",
       " 'Bulbasaur',\n",
       " 'Pikachu',\n",
       " 'Bulbasaur',\n",
       " 'Pikachu',\n",
       " 'Charmander',\n",
       " 'Bulbasaur',\n",
       " 'Charmander',\n",
       " 'Pikachu',\n",
       " 'Pikachu',\n",
       " 'Bulbasaur',\n",
       " 'Bulbasaur',\n",
       " 'Bulbasaur',\n",
       " 'Pikachu',\n",
       " 'Pikachu',\n",
       " 'Charmander',\n",
       " 'Pikachu',\n",
       " 'Pikachu',\n",
       " 'Charmander',\n",
       " 'Bulbasaur',\n",
       " 'Pikachu',\n",
       " 'Charmander',\n",
       " 'Bulbasaur',\n",
       " 'Charmander',\n",
       " 'Charmander',\n",
       " 'Pikachu',\n",
       " 'Bulbasaur',\n",
       " 'Bulbasaur',\n",
       " 'Bulbasaur',\n",
       " 'Bulbasaur',\n",
       " 'Pikachu',\n",
       " 'Charmander',\n",
       " 'Pikachu',\n",
       " 'Charmander',\n",
       " 'Bulbasaur',\n",
       " 'Charmander',\n",
       " 'Pikachu',\n",
       " 'Charmander',\n",
       " 'Charmander',\n",
       " 'Bulbasaur',\n",
       " 'Bulbasaur',\n",
       " 'Charmander',\n",
       " 'Charmander',\n",
       " 'Charmander',\n",
       " 'Charmander',\n",
       " 'Pikachu',\n",
       " 'Pikachu',\n",
       " 'Bulbasaur',\n",
       " 'Pikachu',\n",
       " 'Charmander',\n",
       " 'Pikachu',\n",
       " 'Bulbasaur',\n",
       " 'Charmander',\n",
       " 'Charmander',\n",
       " 'Charmander',\n",
       " 'Pikachu',\n",
       " 'Bulbasaur',\n",
       " 'Pikachu',\n",
       " 'Pikachu',\n",
       " 'Pikachu',\n",
       " 'Bulbasaur',\n",
       " 'Charmander',\n",
       " 'Pikachu',\n",
       " 'Bulbasaur',\n",
       " 'Bulbasaur',\n",
       " 'Bulbasaur',\n",
       " 'Bulbasaur',\n",
       " 'Pikachu',\n",
       " 'Pikachu',\n",
       " 'Pikachu',\n",
       " 'Charmander',\n",
       " 'Pikachu',\n",
       " 'Bulbasaur',\n",
       " 'Charmander',\n",
       " 'Pikachu']"
      ]
     },
     "execution_count": 31,
     "metadata": {},
     "output_type": "execute_result"
    }
   ],
   "source": [
    "out = []\n",
    "for x in range(len(yp)):\n",
    "    if yp[x] == 0:\n",
    "        out.append(\"Pikachu\")\n",
    "    if yp[x]  == 1:\n",
    "        out.append(\"Charmander\")\n",
    "    if yp[x] == 2:\n",
    "        out.append(\"Bulbasaur\")\n",
    "out"
   ]
  },
  {
   "cell_type": "code",
   "execution_count": 32,
   "metadata": {},
   "outputs": [],
   "source": [
    "df=pd.DataFrame(list(zip(ttt,out)),columns=['ImageId','NameOfPokemon'])"
   ]
  },
  {
   "cell_type": "code",
   "execution_count": 33,
   "metadata": {},
   "outputs": [],
   "source": [
    "df.to_csv('out.csv',index=False)"
   ]
  },
  {
   "cell_type": "code",
   "execution_count": null,
   "metadata": {},
   "outputs": [],
   "source": []
  }
 ],
 "metadata": {
  "kernelspec": {
   "display_name": "Python 3",
   "language": "python",
   "name": "python3"
  },
  "language_info": {
   "codemirror_mode": {
    "name": "ipython",
    "version": 3
   },
   "file_extension": ".py",
   "mimetype": "text/x-python",
   "name": "python",
   "nbconvert_exporter": "python",
   "pygments_lexer": "ipython3",
   "version": "3.9.1"
  }
 },
 "nbformat": 4,
 "nbformat_minor": 4
}
