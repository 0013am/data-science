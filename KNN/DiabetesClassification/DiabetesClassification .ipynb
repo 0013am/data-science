{
 "cells": [
  {
   "cell_type": "code",
   "execution_count": 273,
   "metadata": {},
   "outputs": [],
   "source": [
    "import pandas as pd\n",
    "import numpy as np\n",
    "import seaborn as sns\n",
    "from matplotlib import pyplot as plt\n",
    "%matplotlib inline"
   ]
  },
  {
   "cell_type": "code",
   "execution_count": 283,
   "metadata": {},
   "outputs": [
    {
     "name": "stdout",
     "output_type": "stream",
     "text": [
      "   Pregnancies  Glucose  BloodPressure  SkinThickness  Insulin   BMI  \\\n",
      "0            7      168             88             42      321  38.2   \n",
      "1            8      110             76              0        0  27.8   \n",
      "2            7      147             76              0        0  39.4   \n",
      "3            2      100             66             20       90  32.9   \n",
      "4            4      129             86             20      270  35.1   \n",
      "\n",
      "   DiabetesPedigreeFunction  Age  \n",
      "0                     0.787   40  \n",
      "1                     0.237   58  \n",
      "2                     0.257   43  \n",
      "3                     0.867   28  \n",
      "4                     0.231   23  \n"
     ]
    },
    {
     "data": {
      "text/html": [
       "<div>\n",
       "<style scoped>\n",
       "    .dataframe tbody tr th:only-of-type {\n",
       "        vertical-align: middle;\n",
       "    }\n",
       "\n",
       "    .dataframe tbody tr th {\n",
       "        vertical-align: top;\n",
       "    }\n",
       "\n",
       "    .dataframe thead th {\n",
       "        text-align: right;\n",
       "    }\n",
       "</style>\n",
       "<table border=\"1\" class=\"dataframe\">\n",
       "  <thead>\n",
       "    <tr style=\"text-align: right;\">\n",
       "      <th></th>\n",
       "      <th>Pregnancies</th>\n",
       "      <th>Glucose</th>\n",
       "      <th>BloodPressure</th>\n",
       "      <th>SkinThickness</th>\n",
       "      <th>Insulin</th>\n",
       "      <th>BMI</th>\n",
       "      <th>DiabetesPedigreeFunction</th>\n",
       "      <th>Age</th>\n",
       "    </tr>\n",
       "  </thead>\n",
       "  <tbody>\n",
       "    <tr>\n",
       "      <th>0</th>\n",
       "      <td>7</td>\n",
       "      <td>168</td>\n",
       "      <td>88</td>\n",
       "      <td>42</td>\n",
       "      <td>321</td>\n",
       "      <td>38.2</td>\n",
       "      <td>0.787</td>\n",
       "      <td>40</td>\n",
       "    </tr>\n",
       "    <tr>\n",
       "      <th>1</th>\n",
       "      <td>8</td>\n",
       "      <td>110</td>\n",
       "      <td>76</td>\n",
       "      <td>0</td>\n",
       "      <td>0</td>\n",
       "      <td>27.8</td>\n",
       "      <td>0.237</td>\n",
       "      <td>58</td>\n",
       "    </tr>\n",
       "    <tr>\n",
       "      <th>2</th>\n",
       "      <td>7</td>\n",
       "      <td>147</td>\n",
       "      <td>76</td>\n",
       "      <td>0</td>\n",
       "      <td>0</td>\n",
       "      <td>39.4</td>\n",
       "      <td>0.257</td>\n",
       "      <td>43</td>\n",
       "    </tr>\n",
       "    <tr>\n",
       "      <th>3</th>\n",
       "      <td>2</td>\n",
       "      <td>100</td>\n",
       "      <td>66</td>\n",
       "      <td>20</td>\n",
       "      <td>90</td>\n",
       "      <td>32.9</td>\n",
       "      <td>0.867</td>\n",
       "      <td>28</td>\n",
       "    </tr>\n",
       "    <tr>\n",
       "      <th>4</th>\n",
       "      <td>4</td>\n",
       "      <td>129</td>\n",
       "      <td>86</td>\n",
       "      <td>20</td>\n",
       "      <td>270</td>\n",
       "      <td>35.1</td>\n",
       "      <td>0.231</td>\n",
       "      <td>23</td>\n",
       "    </tr>\n",
       "  </tbody>\n",
       "</table>\n",
       "</div>"
      ],
      "text/plain": [
       "   Pregnancies  Glucose  BloodPressure  SkinThickness  Insulin   BMI  \\\n",
       "0            7      168             88             42      321  38.2   \n",
       "1            8      110             76              0        0  27.8   \n",
       "2            7      147             76              0        0  39.4   \n",
       "3            2      100             66             20       90  32.9   \n",
       "4            4      129             86             20      270  35.1   \n",
       "\n",
       "   DiabetesPedigreeFunction  Age  \n",
       "0                     0.787   40  \n",
       "1                     0.237   58  \n",
       "2                     0.257   43  \n",
       "3                     0.867   28  \n",
       "4                     0.231   23  "
      ]
     },
     "execution_count": 283,
     "metadata": {},
     "output_type": "execute_result"
    }
   ],
   "source": [
    "#read training data and explore\n",
    "df=pd.read_csv('Dx_train.csv')\n",
    "print(df.head(5))\n",
    "df.describe()\n",
    "df.head()"
   ]
  },
  {
   "cell_type": "code",
   "execution_count": null,
   "metadata": {},
   "outputs": [],
   "source": []
  },
  {
   "cell_type": "code",
   "execution_count": 339,
   "metadata": {},
   "outputs": [
    {
     "data": {
      "text/plain": [
       "192"
      ]
     },
     "execution_count": 339,
     "metadata": {},
     "output_type": "execute_result"
    }
   ],
   "source": [
    "#reading test data\n",
    "dft=pd.read_csv('D_Xtest.csv')\n",
    "dft=dft.values\n",
    "dft.shape[0]"
   ]
  },
  {
   "cell_type": "code",
   "execution_count": 323,
   "metadata": {},
   "outputs": [
    {
     "data": {
      "text/plain": [
       "<AxesSubplot:>"
      ]
     },
     "execution_count": 323,
     "metadata": {},
     "output_type": "execute_result"
    },
    {
     "data": {
      "image/png": "[encoded data removed]",
      "text/plain": [
       "<Figure size 432x288 with 1 Axes>"
      ]
     },
     "metadata": {
      "needs_background": "light"
     },
     "output_type": "display_data"
    }
   ],
   "source": [
    "dfy=pd.read_csv('Dy_train.csv ')\n",
    "dfy.head()\n",
    "# graph explaing classes  of patient of diabetes\n",
    "dfy['Outcome'].value_counts().plot(kind='bar')"
   ]
  },
  {
   "cell_type": "code",
   "execution_count": 331,
   "metadata": {},
   "outputs": [
    {
     "data": {
      "text/plain": [
       "array([[  7.   , 168.   ,  88.   , ...,  38.2  ,   0.787,  40.   ],\n",
       "       [  8.   , 110.   ,  76.   , ...,  27.8  ,   0.237,  58.   ],\n",
       "       [  7.   , 147.   ,  76.   , ...,  39.4  ,   0.257,  43.   ],\n",
       "       ...,\n",
       "       [  2.   , 122.   ,  60.   , ...,  29.8  ,   0.717,  22.   ],\n",
       "       [  4.   , 154.   ,  72.   , ...,  31.3  ,   0.338,  37.   ],\n",
       "       [  1.   ,  88.   ,  78.   , ...,  32.   ,   0.365,  29.   ]])"
      ]
     },
     "execution_count": 331,
     "metadata": {},
     "output_type": "execute_result"
    }
   ],
   "source": [
    "y=dfy.values\n",
    "x=df.values\n",
    "#x[x.isnull()==True]=0\n",
    "\n",
    "x"
   ]
  },
  {
   "cell_type": "code",
   "execution_count": 295,
   "metadata": {},
   "outputs": [],
   "source": [
    "def dist(u,v):\n",
    "    u=np.array(u).astype(np.float)  #changing data type for dist calculation\n",
    "    v=np.array(v).astype(np.float)\n",
    "    return np.sqrt((sum((u-v)**2)))"
   ]
  },
  {
   "cell_type": "code",
   "execution_count": 296,
   "metadata": {},
   "outputs": [],
   "source": [
    "def knn(x,y,query,k=3):\n",
    "    val=[]\n",
    "    for i in range(x.shape[0]):\n",
    "        d=dist(x[i],query)\n",
    "        val.append((d,y[i]))\n",
    "    val=sorted(val)\n",
    "    \n",
    "    val=np.array(val)\n",
    "    val=val[:5]\n",
    "    #new_val=val[:,1]\n",
    "    new_val,counts=np.unique(val[:,1],return_counts=True)\n",
    "    #idx = new_val[counts.argmax()][0]\n",
    "    \n",
    "    #idx = new_val[counts.argmax()][0]\n",
    "    return int(new_val[counts.argmax()])"
   ]
  },
  {
   "cell_type": "code",
   "execution_count": 347,
   "metadata": {},
   "outputs": [
    {
     "name": "stderr",
     "output_type": "stream",
     "text": [
      "<ipython-input-296-3e514f84d3d2>:8: VisibleDeprecationWarning: Creating an ndarray from ragged nested sequences (which is a list-or-tuple of lists-or-tuples-or ndarrays with different lengths or shapes) is deprecated. If you meant to do this, you must specify 'dtype=object' when creating the ndarray\n",
      "  val=np.array(val)\n"
     ]
    }
   ],
   "source": [
    "#saving prediction in csv file\n",
    "file='dbts.csv'\n",
    "with open(file,'w',encoding='utf-8') as f:\n",
    "    f.write('Outcome')\n",
    "    f.write('\\n')\n",
    "    for i in range(dft.shape[0]):\n",
    "        p=knn(x,y,dft[i])\n",
    "        s=''\n",
    "        s+=str(p)\n",
    "        f.write(s)\n",
    "        f.write('\\n')"
   ]
  },
  {
   "cell_type": "code",
   "execution_count": null,
   "metadata": {},
   "outputs": [],
   "source": []
  }
 ],
 "metadata": {
  "kernelspec": {
   "display_name": "Python 3",
   "language": "python",
   "name": "python3"
  },
  "language_info": {
   "codemirror_mode": {
    "name": "ipython",
    "version": 3
   },
   "file_extension": ".py",
   "mimetype": "text/x-python",
   "name": "python",
   "nbconvert_exporter": "python",
   "pygments_lexer": "ipython3",
   "version": "3.9.1"
  }
 },
 "nbformat": 4,
 "nbformat_minor": 4
}
